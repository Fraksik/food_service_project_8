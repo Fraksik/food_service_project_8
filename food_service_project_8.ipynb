{
 "cells": [
  {
   "cell_type": "markdown",
   "id": "37f5691a",
   "metadata": {},
   "source": [
    "# Рынок заведений общественного питания Москвы"
   ]
  },
  {
   "cell_type": "markdown",
   "id": "3eeca69b",
   "metadata": {},
   "source": [
    "## Описание проекта"
   ]
  },
  {
   "cell_type": "markdown",
   "id": "e7c74547",
   "metadata": {},
   "source": [
    "Мы рассматриваем возможность открыть небольшое кафе в Москве. Оно оригинальное — гостей должны обслуживать роботы. Проект многообещающий, но дорогой. Вместе с партнёрами мы решились обратиться к инвесторам. Их интересует текущее положение дел на рынке — сможем ли мы снискать популярность на долгое время, когда все зеваки насмотрятся на роботов-официантов?  \n",
    "  \n",
    "Просмотрев открытые данные о заведениях общественного питания в Москве, мы должны подготовить исследование с презентацией."
   ]
  },
  {
   "cell_type": "markdown",
   "id": "14b4c3a7",
   "metadata": {},
   "source": [
    "## Знакомство с данными"
   ]
  },
  {
   "cell_type": "markdown",
   "id": "ecf4f01a",
   "metadata": {},
   "source": [
    "### Предварительные настройки и подгрузка библиотек"
   ]
  },
  {
   "cell_type": "markdown",
   "id": "6b36fd61",
   "metadata": {},
   "source": [
    "Убираем предупреждения."
   ]
  },
  {
   "cell_type": "code",
   "execution_count": 7,
   "id": "dc128e96",
   "metadata": {
    "ExecuteTime": {
     "end_time": "2022-02-22T10:10:29.718293Z",
     "start_time": "2022-02-22T10:10:29.712735Z"
    }
   },
   "outputs": [],
   "source": [
    "import warnings\n",
    "warnings.filterwarnings('ignore')"
   ]
  },
  {
   "cell_type": "markdown",
   "id": "26f326c9",
   "metadata": {},
   "source": [
    "Подгружаем библиотеки."
   ]
  },
  {
   "cell_type": "code",
   "execution_count": 8,
   "id": "fe461a21",
   "metadata": {},
   "outputs": [],
   "source": [
    "import pandas as pd\n",
    "import seaborn as sns\n",
    "import matplotlib.pyplot as plt \n",
    "import numpy as np\n",
    "from datetime import datetime, timedelta\n",
    "%matplotlib inline\n",
    "import scipy.stats as stats\n",
    "import re\n",
    "from io import BytesIO\n",
    "import requests"
   ]
  },
  {
   "cell_type": "markdown",
   "id": "a1189368",
   "metadata": {},
   "source": [
    "Устанавливаем параметры по умолчанию."
   ]
  },
  {
   "cell_type": "code",
   "execution_count": 9,
   "id": "79f13472",
   "metadata": {},
   "outputs": [],
   "source": [
    "pd.set_option('max_rows', 10)\n",
    "pd.set_option('display.max_colwidth', 150)\n",
    "pd.set_option('display.float_format', '{:.2f}'.format)"
   ]
  },
  {
   "cell_type": "markdown",
   "id": "e66dd247",
   "metadata": {},
   "source": [
    "Подгружаем файлы."
   ]
  },
  {
   "cell_type": "code",
   "execution_count": 10,
   "id": "df28c5e6",
   "metadata": {},
   "outputs": [],
   "source": [
    "try:\n",
    "    data = pd.read_csv('/datasets/rest_data.csv')\n",
    "except:\n",
    "    data = pd.read_csv('rest_data.csv')"
   ]
  },
  {
   "cell_type": "markdown",
   "id": "041840ac",
   "metadata": {},
   "source": [
    "Подгрузим информацию об улицах."
   ]
  },
  {
   "cell_type": "code",
   "execution_count": 11,
   "id": "3f8976bc",
   "metadata": {},
   "outputs": [
    {
     "data": {
      "text/html": [
       "<div>\n",
       "<style scoped>\n",
       "    .dataframe tbody tr th:only-of-type {\n",
       "        vertical-align: middle;\n",
       "    }\n",
       "\n",
       "    .dataframe tbody tr th {\n",
       "        vertical-align: top;\n",
       "    }\n",
       "\n",
       "    .dataframe thead th {\n",
       "        text-align: right;\n",
       "    }\n",
       "</style>\n",
       "<table border=\"1\" class=\"dataframe\">\n",
       "  <thead>\n",
       "    <tr style=\"text-align: right;\">\n",
       "      <th></th>\n",
       "      <th>streetname</th>\n",
       "      <th>areaid</th>\n",
       "      <th>okrug</th>\n",
       "      <th>area</th>\n",
       "    </tr>\n",
       "  </thead>\n",
       "  <tbody>\n",
       "    <tr>\n",
       "      <th>0</th>\n",
       "      <td>Выставочный переулок</td>\n",
       "      <td>17</td>\n",
       "      <td>ЦАО</td>\n",
       "      <td>Пресненский район</td>\n",
       "    </tr>\n",
       "    <tr>\n",
       "      <th>1</th>\n",
       "      <td>улица Гашека</td>\n",
       "      <td>17</td>\n",
       "      <td>ЦАО</td>\n",
       "      <td>Пресненский район</td>\n",
       "    </tr>\n",
       "    <tr>\n",
       "      <th>2</th>\n",
       "      <td>Большая Никитская улица</td>\n",
       "      <td>17</td>\n",
       "      <td>ЦАО</td>\n",
       "      <td>Пресненский район</td>\n",
       "    </tr>\n",
       "    <tr>\n",
       "      <th>3</th>\n",
       "      <td>Глубокий переулок</td>\n",
       "      <td>17</td>\n",
       "      <td>ЦАО</td>\n",
       "      <td>Пресненский район</td>\n",
       "    </tr>\n",
       "    <tr>\n",
       "      <th>4</th>\n",
       "      <td>Большой Гнездниковский переулок</td>\n",
       "      <td>17</td>\n",
       "      <td>ЦАО</td>\n",
       "      <td>Пресненский район</td>\n",
       "    </tr>\n",
       "  </tbody>\n",
       "</table>\n",
       "</div>"
      ],
      "text/plain": [
       "                        streetname  areaid okrug               area\n",
       "0             Выставочный переулок      17   ЦАО  Пресненский район\n",
       "1                     улица Гашека      17   ЦАО  Пресненский район\n",
       "2          Большая Никитская улица      17   ЦАО  Пресненский район\n",
       "3                Глубокий переулок      17   ЦАО  Пресненский район\n",
       "4  Большой Гнездниковский переулок      17   ЦАО  Пресненский район"
      ]
     },
     "execution_count": 11,
     "metadata": {},
     "output_type": "execute_result"
    }
   ],
   "source": [
    "spreadsheet_id = '1NrBv6hsJKdtKOCqBeskqbvQHhzDtcI8rrmhhRylvHKs'\n",
    "file_name = 'https://docs.google.com/spreadsheets/d/{}/export?format=csv'.format(spreadsheet_id)\n",
    "r = requests.get(file_name)\n",
    "streets = pd.read_csv(BytesIO(r.content), encoding='utf8')\n",
    "streets.head()"
   ]
  },
  {
   "cell_type": "markdown",
   "id": "b025dbf3",
   "metadata": {},
   "source": [
    "Посмотрим на структуру данных."
   ]
  },
  {
   "cell_type": "code",
   "execution_count": 12,
   "id": "471fc9c0",
   "metadata": {},
   "outputs": [
    {
     "name": "stdout",
     "output_type": "stream",
     "text": [
      "<class 'pandas.core.frame.DataFrame'>\n",
      "RangeIndex: 15366 entries, 0 to 15365\n",
      "Data columns (total 6 columns):\n",
      " #   Column       Non-Null Count  Dtype \n",
      "---  ------       --------------  ----- \n",
      " 0   id           15366 non-null  int64 \n",
      " 1   object_name  15366 non-null  object\n",
      " 2   chain        15366 non-null  object\n",
      " 3   object_type  15366 non-null  object\n",
      " 4   address      15366 non-null  object\n",
      " 5   number       15366 non-null  int64 \n",
      "dtypes: int64(2), object(4)\n",
      "memory usage: 720.4+ KB\n"
     ]
    }
   ],
   "source": [
    "data.info()"
   ]
  },
  {
   "cell_type": "markdown",
   "id": "0dcd9160",
   "metadata": {},
   "source": [
    "База данных содержит 15366 строк и 6 полей.  \n",
    "2 поля представлены в формате целого числа, 4 в формате текста.  \n",
    "Пропущенные значения отсутствуют."
   ]
  },
  {
   "cell_type": "code",
   "execution_count": 13,
   "id": "ab669d44",
   "metadata": {},
   "outputs": [
    {
     "data": {
      "text/html": [
       "<div>\n",
       "<style scoped>\n",
       "    .dataframe tbody tr th:only-of-type {\n",
       "        vertical-align: middle;\n",
       "    }\n",
       "\n",
       "    .dataframe tbody tr th {\n",
       "        vertical-align: top;\n",
       "    }\n",
       "\n",
       "    .dataframe thead th {\n",
       "        text-align: right;\n",
       "    }\n",
       "</style>\n",
       "<table border=\"1\" class=\"dataframe\">\n",
       "  <thead>\n",
       "    <tr style=\"text-align: right;\">\n",
       "      <th></th>\n",
       "      <th>id</th>\n",
       "      <th>object_name</th>\n",
       "      <th>chain</th>\n",
       "      <th>object_type</th>\n",
       "      <th>address</th>\n",
       "      <th>number</th>\n",
       "    </tr>\n",
       "  </thead>\n",
       "  <tbody>\n",
       "    <tr>\n",
       "      <th>14152</th>\n",
       "      <td>204965</td>\n",
       "      <td>Пекарня</td>\n",
       "      <td>нет</td>\n",
       "      <td>предприятие быстрого обслуживания</td>\n",
       "      <td>город Москва, Алтуфьевское шоссе, дом 86, корпус 1</td>\n",
       "      <td>0</td>\n",
       "    </tr>\n",
       "    <tr>\n",
       "      <th>3472</th>\n",
       "      <td>153105</td>\n",
       "      <td>Муракамэ</td>\n",
       "      <td>нет</td>\n",
       "      <td>ресторан</td>\n",
       "      <td>город Москва, Ленинградский проспект, дом 47, строение 2</td>\n",
       "      <td>60</td>\n",
       "    </tr>\n",
       "    <tr>\n",
       "      <th>11477</th>\n",
       "      <td>186952</td>\n",
       "      <td>Донер кебаб</td>\n",
       "      <td>нет</td>\n",
       "      <td>предприятие быстрого обслуживания</td>\n",
       "      <td>город Москва, улица Ленинская Слобода, дом 26, строение 2</td>\n",
       "      <td>0</td>\n",
       "    </tr>\n",
       "    <tr>\n",
       "      <th>1405</th>\n",
       "      <td>20199</td>\n",
       "      <td>ЭТО</td>\n",
       "      <td>нет</td>\n",
       "      <td>кафе</td>\n",
       "      <td>город Москва, город Зеленоград, корпус 401</td>\n",
       "      <td>35</td>\n",
       "    </tr>\n",
       "    <tr>\n",
       "      <th>10455</th>\n",
       "      <td>174446</td>\n",
       "      <td>Black Swan pub&amp;shop</td>\n",
       "      <td>нет</td>\n",
       "      <td>кафе</td>\n",
       "      <td>город Москва, улица Солянка, дом 1/2, строение 1</td>\n",
       "      <td>90</td>\n",
       "    </tr>\n",
       "    <tr>\n",
       "      <th>12094</th>\n",
       "      <td>187928</td>\n",
       "      <td>Даблби</td>\n",
       "      <td>нет</td>\n",
       "      <td>кафе</td>\n",
       "      <td>город Москва, Пресненская набережная, дом 2</td>\n",
       "      <td>0</td>\n",
       "    </tr>\n",
       "    <tr>\n",
       "      <th>14093</th>\n",
       "      <td>208702</td>\n",
       "      <td>EateriaKitchen (Паста)</td>\n",
       "      <td>нет</td>\n",
       "      <td>кафе</td>\n",
       "      <td>город Москва, Нижняя Красносельская улица, дом 35, строение 59</td>\n",
       "      <td>10</td>\n",
       "    </tr>\n",
       "    <tr>\n",
       "      <th>6669</th>\n",
       "      <td>139560</td>\n",
       "      <td>Чайхона №1</td>\n",
       "      <td>да</td>\n",
       "      <td>ресторан</td>\n",
       "      <td>город Москва, площадь Киевского Вокзала, дом 2</td>\n",
       "      <td>48</td>\n",
       "    </tr>\n",
       "    <tr>\n",
       "      <th>11126</th>\n",
       "      <td>186753</td>\n",
       "      <td>Кафе</td>\n",
       "      <td>нет</td>\n",
       "      <td>кафе</td>\n",
       "      <td>город Москва, Студёный проезд, дом 7Б</td>\n",
       "      <td>15</td>\n",
       "    </tr>\n",
       "    <tr>\n",
       "      <th>15028</th>\n",
       "      <td>215653</td>\n",
       "      <td>Сказка Бутово</td>\n",
       "      <td>нет</td>\n",
       "      <td>ресторан</td>\n",
       "      <td>город Москва, Изюмская улица, дом 52А</td>\n",
       "      <td>50</td>\n",
       "    </tr>\n",
       "  </tbody>\n",
       "</table>\n",
       "</div>"
      ],
      "text/plain": [
       "           id             object_name chain  \\\n",
       "14152  204965                 Пекарня   нет   \n",
       "3472   153105                Муракамэ   нет   \n",
       "11477  186952             Донер кебаб   нет   \n",
       "1405    20199                     ЭТО   нет   \n",
       "10455  174446     Black Swan pub&shop   нет   \n",
       "12094  187928                  Даблби   нет   \n",
       "14093  208702  EateriaKitchen (Паста)   нет   \n",
       "6669   139560              Чайхона №1    да   \n",
       "11126  186753                    Кафе   нет   \n",
       "15028  215653           Сказка Бутово   нет   \n",
       "\n",
       "                             object_type  \\\n",
       "14152  предприятие быстрого обслуживания   \n",
       "3472                            ресторан   \n",
       "11477  предприятие быстрого обслуживания   \n",
       "1405                                кафе   \n",
       "10455                               кафе   \n",
       "12094                               кафе   \n",
       "14093                               кафе   \n",
       "6669                            ресторан   \n",
       "11126                               кафе   \n",
       "15028                           ресторан   \n",
       "\n",
       "                                                              address  number  \n",
       "14152              город Москва, Алтуфьевское шоссе, дом 86, корпус 1       0  \n",
       "3472         город Москва, Ленинградский проспект, дом 47, строение 2      60  \n",
       "11477       город Москва, улица Ленинская Слобода, дом 26, строение 2       0  \n",
       "1405                       город Москва, город Зеленоград, корпус 401      35  \n",
       "10455                город Москва, улица Солянка, дом 1/2, строение 1      90  \n",
       "12094                     город Москва, Пресненская набережная, дом 2       0  \n",
       "14093  город Москва, Нижняя Красносельская улица, дом 35, строение 59      10  \n",
       "6669                   город Москва, площадь Киевского Вокзала, дом 2      48  \n",
       "11126                           город Москва, Студёный проезд, дом 7Б      15  \n",
       "15028                           город Москва, Изюмская улица, дом 52А      50  "
      ]
     },
     "execution_count": 13,
     "metadata": {},
     "output_type": "execute_result"
    }
   ],
   "source": [
    "data.sample(10)"
   ]
  },
  {
   "cell_type": "markdown",
   "id": "62ea0088",
   "metadata": {},
   "source": [
    "Значения полей:  \n",
    "- id - уникальный идентификационный номер заведения;\n",
    "- object_name - название;\n",
    "- chain - является ли сетью;\n",
    "- object_type - тип;\n",
    "- address - адрес;\n",
    "- number - количество посадочных мест;"
   ]
  },
  {
   "cell_type": "code",
   "execution_count": 14,
   "id": "2b77c718",
   "metadata": {},
   "outputs": [
    {
     "data": {
      "text/html": [
       "<div>\n",
       "<style scoped>\n",
       "    .dataframe tbody tr th:only-of-type {\n",
       "        vertical-align: middle;\n",
       "    }\n",
       "\n",
       "    .dataframe tbody tr th {\n",
       "        vertical-align: top;\n",
       "    }\n",
       "\n",
       "    .dataframe thead th {\n",
       "        text-align: right;\n",
       "    }\n",
       "</style>\n",
       "<table border=\"1\" class=\"dataframe\">\n",
       "  <thead>\n",
       "    <tr style=\"text-align: right;\">\n",
       "      <th></th>\n",
       "      <th>count</th>\n",
       "      <th>mean</th>\n",
       "      <th>std</th>\n",
       "      <th>min</th>\n",
       "      <th>25%</th>\n",
       "      <th>50%</th>\n",
       "      <th>75%</th>\n",
       "      <th>max</th>\n",
       "    </tr>\n",
       "  </thead>\n",
       "  <tbody>\n",
       "    <tr>\n",
       "      <th>id</th>\n",
       "      <td>15366.00</td>\n",
       "      <td>119720.07</td>\n",
       "      <td>73036.13</td>\n",
       "      <td>838.00</td>\n",
       "      <td>28524.00</td>\n",
       "      <td>144974.50</td>\n",
       "      <td>184262.25</td>\n",
       "      <td>223439.00</td>\n",
       "    </tr>\n",
       "    <tr>\n",
       "      <th>number</th>\n",
       "      <td>15366.00</td>\n",
       "      <td>59.55</td>\n",
       "      <td>74.74</td>\n",
       "      <td>0.00</td>\n",
       "      <td>12.00</td>\n",
       "      <td>40.00</td>\n",
       "      <td>80.00</td>\n",
       "      <td>1700.00</td>\n",
       "    </tr>\n",
       "  </tbody>\n",
       "</table>\n",
       "</div>"
      ],
      "text/plain": [
       "          count      mean      std    min      25%       50%       75%  \\\n",
       "id     15366.00 119720.07 73036.13 838.00 28524.00 144974.50 184262.25   \n",
       "number 15366.00     59.55    74.74   0.00    12.00     40.00     80.00   \n",
       "\n",
       "             max  \n",
       "id     223439.00  \n",
       "number   1700.00  "
      ]
     },
     "execution_count": 14,
     "metadata": {},
     "output_type": "execute_result"
    }
   ],
   "source": [
    "data.describe().T"
   ]
  },
  {
   "cell_type": "markdown",
   "id": "0833ae15",
   "metadata": {},
   "source": [
    "Посмотрим, что это за заведения с таким большим количеством посадочных мест."
   ]
  },
  {
   "cell_type": "code",
   "execution_count": 15,
   "id": "6343ed58",
   "metadata": {},
   "outputs": [
    {
     "data": {
      "text/html": [
       "<div>\n",
       "<style scoped>\n",
       "    .dataframe tbody tr th:only-of-type {\n",
       "        vertical-align: middle;\n",
       "    }\n",
       "\n",
       "    .dataframe tbody tr th {\n",
       "        vertical-align: top;\n",
       "    }\n",
       "\n",
       "    .dataframe thead th {\n",
       "        text-align: right;\n",
       "    }\n",
       "</style>\n",
       "<table border=\"1\" class=\"dataframe\">\n",
       "  <thead>\n",
       "    <tr style=\"text-align: right;\">\n",
       "      <th></th>\n",
       "      <th>id</th>\n",
       "      <th>object_name</th>\n",
       "      <th>chain</th>\n",
       "      <th>object_type</th>\n",
       "      <th>address</th>\n",
       "      <th>number</th>\n",
       "    </tr>\n",
       "  </thead>\n",
       "  <tbody>\n",
       "    <tr>\n",
       "      <th>12723</th>\n",
       "      <td>199696</td>\n",
       "      <td>Arena by Soho Family</td>\n",
       "      <td>нет</td>\n",
       "      <td>бар</td>\n",
       "      <td>город Москва, Кутузовский проспект, дом 36, строение 11</td>\n",
       "      <td>1700</td>\n",
       "    </tr>\n",
       "  </tbody>\n",
       "</table>\n",
       "</div>"
      ],
      "text/plain": [
       "           id           object_name chain object_type  \\\n",
       "12723  199696  Arena by Soho Family   нет         бар   \n",
       "\n",
       "                                                       address  number  \n",
       "12723  город Москва, Кутузовский проспект, дом 36, строение 11    1700  "
      ]
     },
     "execution_count": 15,
     "metadata": {},
     "output_type": "execute_result"
    }
   ],
   "source": [
    "data.query('number == 1700')"
   ]
  },
  {
   "cell_type": "markdown",
   "id": "f9cf1b83",
   "metadata": {},
   "source": [
    "Судя по информации из сети, все ок. Посмотрим на количество уникальных значений."
   ]
  },
  {
   "cell_type": "code",
   "execution_count": 16,
   "id": "f7fbfde0",
   "metadata": {},
   "outputs": [
    {
     "data": {
      "text/plain": [
       "10393"
      ]
     },
     "execution_count": 16,
     "metadata": {},
     "output_type": "execute_result"
    }
   ],
   "source": [
    "data.object_name.nunique()"
   ]
  },
  {
   "cell_type": "code",
   "execution_count": 17,
   "id": "c5f7468b",
   "metadata": {},
   "outputs": [
    {
     "data": {
      "text/plain": [
       "68.0"
      ]
     },
     "execution_count": 17,
     "metadata": {},
     "output_type": "execute_result"
    }
   ],
   "source": [
    "round((data.object_name.nunique() / len(data.object_name)), 2) * 100"
   ]
  },
  {
   "cell_type": "markdown",
   "id": "444e12cd",
   "metadata": {},
   "source": [
    "10393 заведения или 68% имеют уникальные названия.  \n",
    "Посмотрим сколько всего сетевых."
   ]
  },
  {
   "cell_type": "code",
   "execution_count": 18,
   "id": "2dbbea16",
   "metadata": {},
   "outputs": [
    {
     "data": {
      "text/plain": [
       "2968"
      ]
     },
     "execution_count": 18,
     "metadata": {},
     "output_type": "execute_result"
    }
   ],
   "source": [
    "data.query('chain == \"да\"').chain.count()"
   ]
  },
  {
   "cell_type": "markdown",
   "id": "93e651f4",
   "metadata": {},
   "source": [
    "2968 являются сетями."
   ]
  },
  {
   "cell_type": "code",
   "execution_count": 19,
   "id": "10f1019a",
   "metadata": {},
   "outputs": [
    {
     "data": {
      "text/plain": [
       "19.0"
      ]
     },
     "execution_count": 19,
     "metadata": {},
     "output_type": "execute_result"
    }
   ],
   "source": [
    "round((data.query('chain == \"да\"').chain.count() / len(data.object_name)), 2) * 100"
   ]
  },
  {
   "cell_type": "markdown",
   "id": "bbaa2500",
   "metadata": {},
   "source": [
    "Или 19% от общего числа."
   ]
  },
  {
   "cell_type": "markdown",
   "id": "7575b2d9",
   "metadata": {},
   "source": [
    "### Выводы по разделу\n",
    "- Данные не содержат пропусков.  \n",
    "- Потребуется выделить улицы в отдельный столбец.\n",
    "- Потребуется проверить на дубликаты."
   ]
  },
  {
   "cell_type": "markdown",
   "id": "887d1511",
   "metadata": {},
   "source": [
    "## Предобработка данных"
   ]
  },
  {
   "cell_type": "markdown",
   "id": "5fd22168",
   "metadata": {},
   "source": [
    "### Выносим улицы в отдельный столбец."
   ]
  },
  {
   "cell_type": "markdown",
   "id": "360c871e",
   "metadata": {},
   "source": [
    "Еще раз посмотрим на данные."
   ]
  },
  {
   "cell_type": "code",
   "execution_count": 20,
   "id": "6fc95edb",
   "metadata": {},
   "outputs": [
    {
     "data": {
      "text/html": [
       "<div>\n",
       "<style scoped>\n",
       "    .dataframe tbody tr th:only-of-type {\n",
       "        vertical-align: middle;\n",
       "    }\n",
       "\n",
       "    .dataframe tbody tr th {\n",
       "        vertical-align: top;\n",
       "    }\n",
       "\n",
       "    .dataframe thead th {\n",
       "        text-align: right;\n",
       "    }\n",
       "</style>\n",
       "<table border=\"1\" class=\"dataframe\">\n",
       "  <thead>\n",
       "    <tr style=\"text-align: right;\">\n",
       "      <th></th>\n",
       "      <th>id</th>\n",
       "      <th>object_name</th>\n",
       "      <th>chain</th>\n",
       "      <th>object_type</th>\n",
       "      <th>address</th>\n",
       "      <th>number</th>\n",
       "    </tr>\n",
       "  </thead>\n",
       "  <tbody>\n",
       "    <tr>\n",
       "      <th>5574</th>\n",
       "      <td>21580</td>\n",
       "      <td>Столовая ШК.1752</td>\n",
       "      <td>нет</td>\n",
       "      <td>столовая</td>\n",
       "      <td>город Москва, Большая Остроумовская улица, дом 7</td>\n",
       "      <td>160</td>\n",
       "    </tr>\n",
       "    <tr>\n",
       "      <th>12763</th>\n",
       "      <td>197489</td>\n",
       "      <td>Кулинария</td>\n",
       "      <td>нет</td>\n",
       "      <td>магазин (отдел кулинарии)</td>\n",
       "      <td>город Москва, проспект Мира, дом 102, корпус 1</td>\n",
       "      <td>4</td>\n",
       "    </tr>\n",
       "    <tr>\n",
       "      <th>4306</th>\n",
       "      <td>28690</td>\n",
       "      <td>СТОЛОВАЯ ПРИ ФИНАНСОВОЙ АКАДЕМИИ</td>\n",
       "      <td>нет</td>\n",
       "      <td>столовая</td>\n",
       "      <td>город Москва, улица Кибальчича, дом 1</td>\n",
       "      <td>30</td>\n",
       "    </tr>\n",
       "    <tr>\n",
       "      <th>2088</th>\n",
       "      <td>73115</td>\n",
       "      <td>Ресторан Джон Джоли</td>\n",
       "      <td>да</td>\n",
       "      <td>ресторан</td>\n",
       "      <td>город Москва, Пятницкая улица, дом 29</td>\n",
       "      <td>180</td>\n",
       "    </tr>\n",
       "    <tr>\n",
       "      <th>6849</th>\n",
       "      <td>127432</td>\n",
       "      <td>МЕНЗА</td>\n",
       "      <td>да</td>\n",
       "      <td>ресторан</td>\n",
       "      <td>город Москва, Щукинская улица, дом 42</td>\n",
       "      <td>66</td>\n",
       "    </tr>\n",
       "  </tbody>\n",
       "</table>\n",
       "</div>"
      ],
      "text/plain": [
       "           id                       object_name chain  \\\n",
       "5574    21580                  Столовая ШК.1752   нет   \n",
       "12763  197489                         Кулинария   нет   \n",
       "4306    28690  СТОЛОВАЯ ПРИ ФИНАНСОВОЙ АКАДЕМИИ   нет   \n",
       "2088    73115               Ресторан Джон Джоли    да   \n",
       "6849   127432                             МЕНЗА    да   \n",
       "\n",
       "                     object_type  \\\n",
       "5574                    столовая   \n",
       "12763  магазин (отдел кулинарии)   \n",
       "4306                    столовая   \n",
       "2088                    ресторан   \n",
       "6849                    ресторан   \n",
       "\n",
       "                                                address  number  \n",
       "5574   город Москва, Большая Остроумовская улица, дом 7     160  \n",
       "12763    город Москва, проспект Мира, дом 102, корпус 1       4  \n",
       "4306              город Москва, улица Кибальчича, дом 1      30  \n",
       "2088              город Москва, Пятницкая улица, дом 29     180  \n",
       "6849              город Москва, Щукинская улица, дом 42      66  "
      ]
     },
     "execution_count": 20,
     "metadata": {},
     "output_type": "execute_result"
    }
   ],
   "source": [
    "data.sample(5)"
   ]
  },
  {
   "cell_type": "markdown",
   "id": "b0ee2b30",
   "metadata": {},
   "source": [
    "Улица отделена запятыми, попробуем ее вытащить, для этого обратимся к регулрным выражениям.  \n",
    "Сперва напишем функцию."
   ]
  },
  {
   "cell_type": "code",
   "execution_count": 21,
   "id": "20489dd5",
   "metadata": {},
   "outputs": [],
   "source": [
    "def get_street(add):\n",
    "    return re.split(r', ', add)[1]"
   ]
  },
  {
   "cell_type": "markdown",
   "id": "841d3c17",
   "metadata": {},
   "source": [
    "Применим ее к таблице."
   ]
  },
  {
   "cell_type": "code",
   "execution_count": 22,
   "id": "65f67eb6",
   "metadata": {},
   "outputs": [],
   "source": [
    "data['street'] = data.address.apply(get_street)"
   ]
  },
  {
   "cell_type": "code",
   "execution_count": 23,
   "id": "ba572056",
   "metadata": {},
   "outputs": [
    {
     "data": {
      "text/html": [
       "<div>\n",
       "<style scoped>\n",
       "    .dataframe tbody tr th:only-of-type {\n",
       "        vertical-align: middle;\n",
       "    }\n",
       "\n",
       "    .dataframe tbody tr th {\n",
       "        vertical-align: top;\n",
       "    }\n",
       "\n",
       "    .dataframe thead th {\n",
       "        text-align: right;\n",
       "    }\n",
       "</style>\n",
       "<table border=\"1\" class=\"dataframe\">\n",
       "  <thead>\n",
       "    <tr style=\"text-align: right;\">\n",
       "      <th></th>\n",
       "      <th>id</th>\n",
       "      <th>object_name</th>\n",
       "      <th>chain</th>\n",
       "      <th>object_type</th>\n",
       "      <th>address</th>\n",
       "      <th>number</th>\n",
       "      <th>street</th>\n",
       "    </tr>\n",
       "  </thead>\n",
       "  <tbody>\n",
       "    <tr>\n",
       "      <th>4579</th>\n",
       "      <td>28085</td>\n",
       "      <td>Столовая ГНУ ВИЭСХ</td>\n",
       "      <td>нет</td>\n",
       "      <td>столовая</td>\n",
       "      <td>город Москва, 1-й Вешняковский проезд, дом 2, строение 1</td>\n",
       "      <td>20</td>\n",
       "      <td>1-й Вешняковский проезд</td>\n",
       "    </tr>\n",
       "    <tr>\n",
       "      <th>11231</th>\n",
       "      <td>176768</td>\n",
       "      <td>Кофе</td>\n",
       "      <td>нет</td>\n",
       "      <td>кафе</td>\n",
       "      <td>город Москва, Большая Семёновская улица, дом 49А</td>\n",
       "      <td>2</td>\n",
       "      <td>Большая Семёновская улица</td>\n",
       "    </tr>\n",
       "    <tr>\n",
       "      <th>3521</th>\n",
       "      <td>152431</td>\n",
       "      <td>Spy Moscow</td>\n",
       "      <td>нет</td>\n",
       "      <td>ресторан</td>\n",
       "      <td>город Москва, 1-я Брестская улица, дом 2, строение 3</td>\n",
       "      <td>170</td>\n",
       "      <td>1-я Брестская улица</td>\n",
       "    </tr>\n",
       "    <tr>\n",
       "      <th>9099</th>\n",
       "      <td>19715</td>\n",
       "      <td>Комбинат питаная ВАГШ</td>\n",
       "      <td>нет</td>\n",
       "      <td>столовая</td>\n",
       "      <td>город Москва, проспект Вернадского, дом 100, корпус ЗОНА, строение С-1</td>\n",
       "      <td>172</td>\n",
       "      <td>проспект Вернадского</td>\n",
       "    </tr>\n",
       "    <tr>\n",
       "      <th>13989</th>\n",
       "      <td>207274</td>\n",
       "      <td>Пивовар</td>\n",
       "      <td>нет</td>\n",
       "      <td>бар</td>\n",
       "      <td>город Москва, Кантемировская улица, дом 7, корпус 1</td>\n",
       "      <td>8</td>\n",
       "      <td>Кантемировская улица</td>\n",
       "    </tr>\n",
       "  </tbody>\n",
       "</table>\n",
       "</div>"
      ],
      "text/plain": [
       "           id            object_name chain object_type  \\\n",
       "4579    28085     Столовая ГНУ ВИЭСХ   нет    столовая   \n",
       "11231  176768                   Кофе   нет        кафе   \n",
       "3521   152431             Spy Moscow   нет    ресторан   \n",
       "9099    19715  Комбинат питаная ВАГШ   нет    столовая   \n",
       "13989  207274                Пивовар   нет         бар   \n",
       "\n",
       "                                                                      address  \\\n",
       "4579                 город Москва, 1-й Вешняковский проезд, дом 2, строение 1   \n",
       "11231                        город Москва, Большая Семёновская улица, дом 49А   \n",
       "3521                     город Москва, 1-я Брестская улица, дом 2, строение 3   \n",
       "9099   город Москва, проспект Вернадского, дом 100, корпус ЗОНА, строение С-1   \n",
       "13989                     город Москва, Кантемировская улица, дом 7, корпус 1   \n",
       "\n",
       "       number                     street  \n",
       "4579       20    1-й Вешняковский проезд  \n",
       "11231       2  Большая Семёновская улица  \n",
       "3521      170        1-я Брестская улица  \n",
       "9099      172       проспект Вернадского  \n",
       "13989       8       Кантемировская улица  "
      ]
     },
     "execution_count": 23,
     "metadata": {},
     "output_type": "execute_result"
    }
   ],
   "source": [
    "data.sample(5)"
   ]
  },
  {
   "cell_type": "markdown",
   "id": "531aff57",
   "metadata": {},
   "source": [
    "Вроде все ок."
   ]
  },
  {
   "cell_type": "markdown",
   "id": "2d3671d4",
   "metadata": {},
   "source": [
    "### Проверить на дубликаты."
   ]
  },
  {
   "cell_type": "code",
   "execution_count": 24,
   "id": "c5085559",
   "metadata": {},
   "outputs": [
    {
     "data": {
      "text/plain": [
       "0"
      ]
     },
     "execution_count": 24,
     "metadata": {},
     "output_type": "execute_result"
    }
   ],
   "source": [
    "data.duplicated().sum()"
   ]
  },
  {
   "cell_type": "markdown",
   "id": "14c8adac",
   "metadata": {},
   "source": [
    "Явных дубликатов нет."
   ]
  },
  {
   "cell_type": "markdown",
   "id": "8d9bbca0",
   "metadata": {},
   "source": [
    "### Проверка уникальных названий вида объекта."
   ]
  },
  {
   "cell_type": "code",
   "execution_count": 25,
   "id": "b75a3037",
   "metadata": {
    "scrolled": true
   },
   "outputs": [
    {
     "data": {
      "text/plain": [
       "array(['кафе', 'столовая', 'закусочная',\n",
       "       'предприятие быстрого обслуживания', 'ресторан', 'кафетерий',\n",
       "       'буфет', 'бар', 'магазин (отдел кулинарии)'], dtype=object)"
      ]
     },
     "execution_count": 25,
     "metadata": {},
     "output_type": "execute_result"
    }
   ],
   "source": [
    "data['object_type'].unique()"
   ]
  },
  {
   "cell_type": "markdown",
   "id": "496213b0",
   "metadata": {},
   "source": [
    "Кафе и кафетерий звучит одинаково, приведем к единому значению."
   ]
  },
  {
   "cell_type": "code",
   "execution_count": 26,
   "id": "8fabd4a2",
   "metadata": {},
   "outputs": [
    {
     "data": {
      "text/plain": [
       "array(['кафе', 'столовая', 'закусочная',\n",
       "       'предприятие быстрого обслуживания', 'ресторан', 'буфет', 'бар',\n",
       "       'магазин (отдел кулинарии)'], dtype=object)"
      ]
     },
     "execution_count": 26,
     "metadata": {},
     "output_type": "execute_result"
    }
   ],
   "source": [
    "data['object_type'] = data['object_type'].replace('кафетерий', 'кафе')\n",
    "data['object_type'].unique()"
   ]
  },
  {
   "cell_type": "markdown",
   "id": "e5515630",
   "metadata": {},
   "source": [
    "### Выводы по разделу\n",
    "Мы определились с отсутствием дубликатов и вытащили улицу в отдельный столбец.  \n",
    "Так же мы заменили вид объектов кафетерий на кафе.  \n",
    "Теперь можно приступить к анализу.  "
   ]
  },
  {
   "cell_type": "markdown",
   "id": "54cad7d0",
   "metadata": {},
   "source": [
    "## Анализ данных"
   ]
  },
  {
   "cell_type": "markdown",
   "id": "d9b7f0c3",
   "metadata": {},
   "source": [
    "### Исследуем соотношение видов объектов общественного питания по количеству. "
   ]
  },
  {
   "cell_type": "markdown",
   "id": "a1fbe13d",
   "metadata": {},
   "source": [
    "Сперва соберем сводную таблицу."
   ]
  },
  {
   "cell_type": "code",
   "execution_count": 27,
   "id": "bfe81101",
   "metadata": {},
   "outputs": [
    {
     "data": {
      "text/html": [
       "<div>\n",
       "<style scoped>\n",
       "    .dataframe tbody tr th:only-of-type {\n",
       "        vertical-align: middle;\n",
       "    }\n",
       "\n",
       "    .dataframe tbody tr th {\n",
       "        vertical-align: top;\n",
       "    }\n",
       "\n",
       "    .dataframe thead th {\n",
       "        text-align: right;\n",
       "    }\n",
       "</style>\n",
       "<table border=\"1\" class=\"dataframe\">\n",
       "  <thead>\n",
       "    <tr style=\"text-align: right;\">\n",
       "      <th></th>\n",
       "      <th>object_type</th>\n",
       "      <th>count</th>\n",
       "    </tr>\n",
       "  </thead>\n",
       "  <tbody>\n",
       "    <tr>\n",
       "      <th>0</th>\n",
       "      <td>кафе</td>\n",
       "      <td>6497</td>\n",
       "    </tr>\n",
       "    <tr>\n",
       "      <th>1</th>\n",
       "      <td>столовая</td>\n",
       "      <td>2587</td>\n",
       "    </tr>\n",
       "    <tr>\n",
       "      <th>2</th>\n",
       "      <td>ресторан</td>\n",
       "      <td>2285</td>\n",
       "    </tr>\n",
       "    <tr>\n",
       "      <th>3</th>\n",
       "      <td>предприятие быстрого обслуживания</td>\n",
       "      <td>1923</td>\n",
       "    </tr>\n",
       "    <tr>\n",
       "      <th>4</th>\n",
       "      <td>бар</td>\n",
       "      <td>856</td>\n",
       "    </tr>\n",
       "    <tr>\n",
       "      <th>5</th>\n",
       "      <td>буфет</td>\n",
       "      <td>585</td>\n",
       "    </tr>\n",
       "    <tr>\n",
       "      <th>6</th>\n",
       "      <td>закусочная</td>\n",
       "      <td>360</td>\n",
       "    </tr>\n",
       "    <tr>\n",
       "      <th>7</th>\n",
       "      <td>магазин (отдел кулинарии)</td>\n",
       "      <td>273</td>\n",
       "    </tr>\n",
       "  </tbody>\n",
       "</table>\n",
       "</div>"
      ],
      "text/plain": [
       "                         object_type  count\n",
       "0                               кафе   6497\n",
       "1                           столовая   2587\n",
       "2                           ресторан   2285\n",
       "3  предприятие быстрого обслуживания   1923\n",
       "4                                бар    856\n",
       "5                              буфет    585\n",
       "6                         закусочная    360\n",
       "7          магазин (отдел кулинарии)    273"
      ]
     },
     "execution_count": 27,
     "metadata": {},
     "output_type": "execute_result"
    }
   ],
   "source": [
    "pivot_obj_type = (data\n",
    "                      .pivot_table(index='object_type', values='id', aggfunc='count')\n",
    "                      .sort_values(by='id', ascending=False)\n",
    "                      .reset_index())\n",
    "pivot_obj_type.columns = ['object_type', 'count']\n",
    "pivot_obj_type"
   ]
  },
  {
   "cell_type": "markdown",
   "id": "aa5f45e6",
   "metadata": {},
   "source": [
    "Посмотрим на графике."
   ]
  },
  {
   "cell_type": "code",
   "execution_count": 28,
   "id": "002d1eec",
   "metadata": {},
   "outputs": [
    {
     "data": {
      "image/png": "[encoded data removed]",
      "text/plain": [
       "<Figure size 432x288 with 1 Axes>"
      ]
     },
     "metadata": {
      "needs_background": "light"
     },
     "output_type": "display_data"
    }
   ],
   "source": [
    "ax = sns.barplot(\n",
    "    y='object_type', \n",
    "    x='count',\n",
    "    data=pivot_obj_type)\n",
    "\n",
    "plt.xlabel('Кол-во объектов')\n",
    "plt.ylabel('Вид объекта')\n",
    "plt.title('Распределение объектов общественного питания в Москве по видам.')\n",
    "plt.show()"
   ]
  },
  {
   "cell_type": "markdown",
   "id": "dc232825",
   "metadata": {},
   "source": [
    "#### Краткий вывод\n",
    "Топ 3 выгляди так:\n",
    "- Кафе - 6497;\n",
    "- Столовая - 2587;\n",
    "- Ресторан - 2285;"
   ]
  },
  {
   "cell_type": "markdown",
   "id": "4a5b2c1f",
   "metadata": {},
   "source": [
    "### Исследуем соотношение сетевых и несетевых заведений по количеству."
   ]
  },
  {
   "cell_type": "markdown",
   "id": "b46d6ef4",
   "metadata": {},
   "source": [
    "Сперва соберем сводную таблицу."
   ]
  },
  {
   "cell_type": "code",
   "execution_count": 29,
   "id": "797bcba4",
   "metadata": {},
   "outputs": [
    {
     "data": {
      "text/html": [
       "<div>\n",
       "<style scoped>\n",
       "    .dataframe tbody tr th:only-of-type {\n",
       "        vertical-align: middle;\n",
       "    }\n",
       "\n",
       "    .dataframe tbody tr th {\n",
       "        vertical-align: top;\n",
       "    }\n",
       "\n",
       "    .dataframe thead th {\n",
       "        text-align: right;\n",
       "    }\n",
       "</style>\n",
       "<table border=\"1\" class=\"dataframe\">\n",
       "  <thead>\n",
       "    <tr style=\"text-align: right;\">\n",
       "      <th></th>\n",
       "      <th>object_type</th>\n",
       "      <th>chain</th>\n",
       "      <th>count</th>\n",
       "    </tr>\n",
       "  </thead>\n",
       "  <tbody>\n",
       "    <tr>\n",
       "      <th>0</th>\n",
       "      <td>кафе</td>\n",
       "      <td>нет</td>\n",
       "      <td>5049</td>\n",
       "    </tr>\n",
       "    <tr>\n",
       "      <th>1</th>\n",
       "      <td>столовая</td>\n",
       "      <td>нет</td>\n",
       "      <td>2584</td>\n",
       "    </tr>\n",
       "    <tr>\n",
       "      <th>2</th>\n",
       "      <td>ресторан</td>\n",
       "      <td>нет</td>\n",
       "      <td>1741</td>\n",
       "    </tr>\n",
       "    <tr>\n",
       "      <th>3</th>\n",
       "      <td>кафе</td>\n",
       "      <td>да</td>\n",
       "      <td>1448</td>\n",
       "    </tr>\n",
       "    <tr>\n",
       "      <th>4</th>\n",
       "      <td>предприятие быстрого обслуживания</td>\n",
       "      <td>нет</td>\n",
       "      <td>1132</td>\n",
       "    </tr>\n",
       "    <tr>\n",
       "      <th>...</th>\n",
       "      <td>...</td>\n",
       "      <td>...</td>\n",
       "      <td>...</td>\n",
       "    </tr>\n",
       "    <tr>\n",
       "      <th>11</th>\n",
       "      <td>магазин (отдел кулинарии)</td>\n",
       "      <td>да</td>\n",
       "      <td>78</td>\n",
       "    </tr>\n",
       "    <tr>\n",
       "      <th>12</th>\n",
       "      <td>закусочная</td>\n",
       "      <td>да</td>\n",
       "      <td>56</td>\n",
       "    </tr>\n",
       "    <tr>\n",
       "      <th>13</th>\n",
       "      <td>бар</td>\n",
       "      <td>да</td>\n",
       "      <td>37</td>\n",
       "    </tr>\n",
       "    <tr>\n",
       "      <th>14</th>\n",
       "      <td>буфет</td>\n",
       "      <td>да</td>\n",
       "      <td>11</td>\n",
       "    </tr>\n",
       "    <tr>\n",
       "      <th>15</th>\n",
       "      <td>столовая</td>\n",
       "      <td>да</td>\n",
       "      <td>3</td>\n",
       "    </tr>\n",
       "  </tbody>\n",
       "</table>\n",
       "<p>16 rows × 3 columns</p>\n",
       "</div>"
      ],
      "text/plain": [
       "                          object_type chain  count\n",
       "0                                кафе   нет   5049\n",
       "1                            столовая   нет   2584\n",
       "2                            ресторан   нет   1741\n",
       "3                                кафе    да   1448\n",
       "4   предприятие быстрого обслуживания   нет   1132\n",
       "..                                ...   ...    ...\n",
       "11          магазин (отдел кулинарии)    да     78\n",
       "12                         закусочная    да     56\n",
       "13                                бар    да     37\n",
       "14                              буфет    да     11\n",
       "15                           столовая    да      3\n",
       "\n",
       "[16 rows x 3 columns]"
      ]
     },
     "execution_count": 29,
     "metadata": {},
     "output_type": "execute_result"
    }
   ],
   "source": [
    "pivot_obj_type_chain = (data\n",
    "                      .pivot_table(index=['object_type', 'chain'], values='id', aggfunc='count')\n",
    "                      .sort_values(by='id', ascending=False)\n",
    "                      .reset_index())\n",
    "pivot_obj_type_chain.columns = ['object_type', 'chain', 'count']\n",
    "pivot_obj_type_chain"
   ]
  },
  {
   "cell_type": "markdown",
   "id": "0ab4a019",
   "metadata": {},
   "source": [
    "Посмотрим на графике."
   ]
  },
  {
   "cell_type": "code",
   "execution_count": 30,
   "id": "9ada8260",
   "metadata": {},
   "outputs": [
    {
     "data": {
      "image/png": "[encoded data removed]",
      "text/plain": [
       "<Figure size 432x288 with 1 Axes>"
      ]
     },
     "metadata": {
      "needs_background": "light"
     },
     "output_type": "display_data"
    }
   ],
   "source": [
    "sns.barplot(\n",
    "    y='object_type', \n",
    "    x='count', \n",
    "    hue='chain',\n",
    "    data=pivot_obj_type_chain)\n",
    "\n",
    "plt.xlabel('Кол-во объектов')\n",
    "plt.ylabel('Вид объекта')\n",
    "plt.title('Распределение объектов общественного питания в Москве по видам с выделением сетей.')\n",
    "plt.show()"
   ]
  },
  {
   "cell_type": "markdown",
   "id": "5de64fe8",
   "metadata": {},
   "source": [
    "#### Краткий вывод\n",
    "- кафе лидируют среди всех видов объектов;\n",
    "- на втором месте для сетей - предприятия быстрого питания, для прочих - столовые;\n",
    "- хуже всех у сетей себя показывают столовые и буфеты;\n",
    "- хуже всех у не сетей себя показывают закусочные и магазины кулинарии;"
   ]
  },
  {
   "cell_type": "markdown",
   "id": "9a7b30e5",
   "metadata": {},
   "source": [
    "### Посмотрим для какого вида объекта общественного питания характерно сетевое распространение."
   ]
  },
  {
   "cell_type": "markdown",
   "id": "c3252de7",
   "metadata": {},
   "source": [
    "Сперва соберем данные по сетевым заведениям."
   ]
  },
  {
   "cell_type": "code",
   "execution_count": 35,
   "id": "e539db6f",
   "metadata": {},
   "outputs": [],
   "source": [
    "data_chains = data.query('chain == \"да\"')"
   ]
  },
  {
   "cell_type": "code",
   "execution_count": 36,
   "id": "0b85309e",
   "metadata": {},
   "outputs": [],
   "source": [
    "data_chains_p = (data_chains\n",
    " .pivot_table(index='object_type', values='id', aggfunc='count')\n",
    " .sort_values(by='id', ascending=False)\n",
    " .reset_index())"
   ]
  },
  {
   "cell_type": "markdown",
   "id": "d5259cb8",
   "metadata": {},
   "source": [
    "Теперь по всем заведениям."
   ]
  },
  {
   "cell_type": "code",
   "execution_count": 44,
   "id": "308a88ed",
   "metadata": {},
   "outputs": [],
   "source": [
    "data_all_p = (data\n",
    " .pivot_table(index='object_type', values='id', aggfunc='count')\n",
    " .sort_values(by='id', ascending=False)\n",
    " .reset_index())"
   ]
  },
  {
   "cell_type": "code",
   "execution_count": 46,
   "id": "eb97dca8",
   "metadata": {},
   "outputs": [
    {
     "data": {
      "text/html": [
       "<div>\n",
       "<style scoped>\n",
       "    .dataframe tbody tr th:only-of-type {\n",
       "        vertical-align: middle;\n",
       "    }\n",
       "\n",
       "    .dataframe tbody tr th {\n",
       "        vertical-align: top;\n",
       "    }\n",
       "\n",
       "    .dataframe thead th {\n",
       "        text-align: right;\n",
       "    }\n",
       "</style>\n",
       "<table border=\"1\" class=\"dataframe\">\n",
       "  <thead>\n",
       "    <tr style=\"text-align: right;\">\n",
       "      <th></th>\n",
       "      <th>object_type</th>\n",
       "      <th>chain</th>\n",
       "      <th>all</th>\n",
       "      <th>chain_to_all</th>\n",
       "    </tr>\n",
       "  </thead>\n",
       "  <tbody>\n",
       "    <tr>\n",
       "      <th>1</th>\n",
       "      <td>предприятие быстрого обслуживания</td>\n",
       "      <td>791</td>\n",
       "      <td>1923</td>\n",
       "      <td>0.41</td>\n",
       "    </tr>\n",
       "    <tr>\n",
       "      <th>3</th>\n",
       "      <td>магазин (отдел кулинарии)</td>\n",
       "      <td>78</td>\n",
       "      <td>273</td>\n",
       "      <td>0.29</td>\n",
       "    </tr>\n",
       "    <tr>\n",
       "      <th>2</th>\n",
       "      <td>ресторан</td>\n",
       "      <td>544</td>\n",
       "      <td>2285</td>\n",
       "      <td>0.24</td>\n",
       "    </tr>\n",
       "    <tr>\n",
       "      <th>0</th>\n",
       "      <td>кафе</td>\n",
       "      <td>1448</td>\n",
       "      <td>6497</td>\n",
       "      <td>0.22</td>\n",
       "    </tr>\n",
       "    <tr>\n",
       "      <th>4</th>\n",
       "      <td>закусочная</td>\n",
       "      <td>56</td>\n",
       "      <td>360</td>\n",
       "      <td>0.16</td>\n",
       "    </tr>\n",
       "    <tr>\n",
       "      <th>5</th>\n",
       "      <td>бар</td>\n",
       "      <td>37</td>\n",
       "      <td>856</td>\n",
       "      <td>0.04</td>\n",
       "    </tr>\n",
       "    <tr>\n",
       "      <th>6</th>\n",
       "      <td>буфет</td>\n",
       "      <td>11</td>\n",
       "      <td>585</td>\n",
       "      <td>0.02</td>\n",
       "    </tr>\n",
       "    <tr>\n",
       "      <th>7</th>\n",
       "      <td>столовая</td>\n",
       "      <td>3</td>\n",
       "      <td>2587</td>\n",
       "      <td>0.00</td>\n",
       "    </tr>\n",
       "  </tbody>\n",
       "</table>\n",
       "</div>"
      ],
      "text/plain": [
       "                         object_type  chain   all  chain_to_all\n",
       "1  предприятие быстрого обслуживания    791  1923          0.41\n",
       "3          магазин (отдел кулинарии)     78   273          0.29\n",
       "2                           ресторан    544  2285          0.24\n",
       "0                               кафе   1448  6497          0.22\n",
       "4                         закусочная     56   360          0.16\n",
       "5                                бар     37   856          0.04\n",
       "6                              буфет     11   585          0.02\n",
       "7                           столовая      3  2587          0.00"
      ]
     },
     "execution_count": 46,
     "metadata": {},
     "output_type": "execute_result"
    }
   ],
   "source": [
    "data_chains_most = data_chains_p.merge(data_all_p, left_on='object_type', right_on='object_type')\n",
    "data_chains_most.columns = ['object_type', 'chain', 'all']\n",
    "data_chains_most['chain_to_all'] = data_chains_most['chain'] / data_chains_most['all']\n",
    "data_chains_most = data_chains_most.sort_values(by='chain_to_all', ascending=False)\n",
    "data_chains_most"
   ]
  },
  {
   "cell_type": "code",
   "execution_count": 49,
   "id": "ae317d16",
   "metadata": {},
   "outputs": [
    {
     "data": {
      "image/png": "[encoded data removed]",
      "text/plain": [
       "<Figure size 432x288 with 1 Axes>"
      ]
     },
     "metadata": {
      "needs_background": "light"
     },
     "output_type": "display_data"
    }
   ],
   "source": [
    "sns.barplot(\n",
    "    y='object_type', \n",
    "    x='chain_to_all',\n",
    "    data=data_chains_most)\n",
    "\n",
    "plt.xlabel('Доля от всех объектов')\n",
    "plt.ylabel('Вид объекта')\n",
    "plt.title('Какие виды объектов выбирают сетевые компании.')\n",
    "plt.show()"
   ]
  },
  {
   "cell_type": "markdown",
   "id": "9f1ed631",
   "metadata": {},
   "source": [
    "#### Краткий вывод\n",
    "Сетевые компании выбирают в первую очередь <b>предприятия быстрого питания</b>.<br>\n",
    "    Так же у них в ходу <b>отделы кулинарии в магазине, рестораны и кафе</b>.<br>\n",
    "    Хуже всего у сетей развивается <b>бар, буфет и столовая</b>."
   ]
  },
  {
   "cell_type": "markdown",
   "id": "fba954a1",
   "metadata": {},
   "source": [
    "### Посмотрим что характерно для сетевых заведений. \n",
    "Много заведений с небольшим числом посадочных мест в каждом или мало заведений с большим количеством посадочных мест."
   ]
  },
  {
   "cell_type": "code",
   "execution_count": 27,
   "id": "f0b3d3b1",
   "metadata": {},
   "outputs": [
    {
     "data": {
      "text/html": [
       "<div>\n",
       "<style scoped>\n",
       "    .dataframe tbody tr th:only-of-type {\n",
       "        vertical-align: middle;\n",
       "    }\n",
       "\n",
       "    .dataframe tbody tr th {\n",
       "        vertical-align: top;\n",
       "    }\n",
       "\n",
       "    .dataframe thead th {\n",
       "        text-align: right;\n",
       "    }\n",
       "</style>\n",
       "<table border=\"1\" class=\"dataframe\">\n",
       "  <thead>\n",
       "    <tr style=\"text-align: right;\">\n",
       "      <th></th>\n",
       "      <th>id</th>\n",
       "      <th>object_name</th>\n",
       "      <th>chain</th>\n",
       "      <th>object_type</th>\n",
       "      <th>address</th>\n",
       "      <th>number</th>\n",
       "      <th>street</th>\n",
       "    </tr>\n",
       "  </thead>\n",
       "  <tbody>\n",
       "    <tr>\n",
       "      <td>2740</td>\n",
       "      <td>150444</td>\n",
       "      <td>KFC</td>\n",
       "      <td>да</td>\n",
       "      <td>предприятие быстрого обслуживания</td>\n",
       "      <td>город Москва, улица Арбат, дом 9, строение 1</td>\n",
       "      <td>50</td>\n",
       "      <td>улица Арбат</td>\n",
       "    </tr>\n",
       "    <tr>\n",
       "      <td>3893</td>\n",
       "      <td>136091</td>\n",
       "      <td>Бургер Кинг</td>\n",
       "      <td>да</td>\n",
       "      <td>ресторан</td>\n",
       "      <td>город Москва, улица Земляной Вал, дом 26, строение 1</td>\n",
       "      <td>50</td>\n",
       "      <td>улица Земляной Вал</td>\n",
       "    </tr>\n",
       "    <tr>\n",
       "      <td>5034</td>\n",
       "      <td>80140</td>\n",
       "      <td>Жан Жак</td>\n",
       "      <td>да</td>\n",
       "      <td>кафе</td>\n",
       "      <td>город Москва, улица Тимура Фрунзе, дом 11, строение 44</td>\n",
       "      <td>64</td>\n",
       "      <td>улица Тимура Фрунзе</td>\n",
       "    </tr>\n",
       "    <tr>\n",
       "      <td>9261</td>\n",
       "      <td>166556</td>\n",
       "      <td>Кафе Суши Wok</td>\n",
       "      <td>да</td>\n",
       "      <td>предприятие быстрого обслуживания</td>\n",
       "      <td>город Москва, Варшавское шоссе, дом 7, корпус 1</td>\n",
       "      <td>8</td>\n",
       "      <td>Варшавское шоссе</td>\n",
       "    </tr>\n",
       "    <tr>\n",
       "      <td>7685</td>\n",
       "      <td>84473</td>\n",
       "      <td>Кафе «Теремок»</td>\n",
       "      <td>да</td>\n",
       "      <td>предприятие быстрого обслуживания</td>\n",
       "      <td>город Москва, Каширское шоссе, дом 14</td>\n",
       "      <td>86</td>\n",
       "      <td>Каширское шоссе</td>\n",
       "    </tr>\n",
       "  </tbody>\n",
       "</table>\n",
       "</div>"
      ],
      "text/plain": [
       "          id     object_name chain                        object_type  \\\n",
       "2740  150444             KFC    да  предприятие быстрого обслуживания   \n",
       "3893  136091     Бургер Кинг    да                           ресторан   \n",
       "5034   80140         Жан Жак    да                               кафе   \n",
       "9261  166556   Кафе Суши Wok    да  предприятие быстрого обслуживания   \n",
       "7685   84473  Кафе «Теремок»    да  предприятие быстрого обслуживания   \n",
       "\n",
       "                                                     address  number  \\\n",
       "2740            город Москва, улица Арбат, дом 9, строение 1      50   \n",
       "3893    город Москва, улица Земляной Вал, дом 26, строение 1      50   \n",
       "5034  город Москва, улица Тимура Фрунзе, дом 11, строение 44      64   \n",
       "9261         город Москва, Варшавское шоссе, дом 7, корпус 1       8   \n",
       "7685                   город Москва, Каширское шоссе, дом 14      86   \n",
       "\n",
       "                   street  \n",
       "2740          улица Арбат  \n",
       "3893   улица Земляной Вал  \n",
       "5034  улица Тимура Фрунзе  \n",
       "9261     Варшавское шоссе  \n",
       "7685      Каширское шоссе  "
      ]
     },
     "execution_count": 27,
     "metadata": {},
     "output_type": "execute_result"
    }
   ],
   "source": [
    "data_chains.sample(5)"
   ]
  },
  {
   "cell_type": "code",
   "execution_count": 28,
   "id": "c37b09f8",
   "metadata": {},
   "outputs": [
    {
     "data": {
      "text/html": [
       "<div>\n",
       "<style scoped>\n",
       "    .dataframe tbody tr th:only-of-type {\n",
       "        vertical-align: middle;\n",
       "    }\n",
       "\n",
       "    .dataframe tbody tr th {\n",
       "        vertical-align: top;\n",
       "    }\n",
       "\n",
       "    .dataframe thead th {\n",
       "        text-align: right;\n",
       "    }\n",
       "</style>\n",
       "<table border=\"1\" class=\"dataframe\">\n",
       "  <thead>\n",
       "    <tr style=\"text-align: right;\">\n",
       "      <th></th>\n",
       "      <th>name</th>\n",
       "      <th>count</th>\n",
       "      <th>seats_sum</th>\n",
       "      <th>seats_one_obj</th>\n",
       "    </tr>\n",
       "  </thead>\n",
       "  <tbody>\n",
       "    <tr>\n",
       "      <td>30</td>\n",
       "      <td>KFC</td>\n",
       "      <td>155</td>\n",
       "      <td>8578</td>\n",
       "      <td>55.34</td>\n",
       "    </tr>\n",
       "    <tr>\n",
       "      <td>702</td>\n",
       "      <td>Шоколадница</td>\n",
       "      <td>141</td>\n",
       "      <td>7920</td>\n",
       "      <td>56.17</td>\n",
       "    </tr>\n",
       "    <tr>\n",
       "      <td>418</td>\n",
       "      <td>Макдоналдс</td>\n",
       "      <td>122</td>\n",
       "      <td>9943</td>\n",
       "      <td>81.50</td>\n",
       "    </tr>\n",
       "    <tr>\n",
       "      <td>127</td>\n",
       "      <td>Бургер Кинг</td>\n",
       "      <td>122</td>\n",
       "      <td>5492</td>\n",
       "      <td>45.02</td>\n",
       "    </tr>\n",
       "    <tr>\n",
       "      <td>195</td>\n",
       "      <td>Домино'с Пицца</td>\n",
       "      <td>86</td>\n",
       "      <td>1566</td>\n",
       "      <td>18.21</td>\n",
       "    </tr>\n",
       "  </tbody>\n",
       "</table>\n",
       "</div>"
      ],
      "text/plain": [
       "               name  count  seats_sum  seats_one_obj\n",
       "30              KFC    155       8578          55.34\n",
       "702     Шоколадница    141       7920          56.17\n",
       "418      Макдоналдс    122       9943          81.50\n",
       "127     Бургер Кинг    122       5492          45.02\n",
       "195  Домино'с Пицца     86       1566          18.21"
      ]
     },
     "execution_count": 28,
     "metadata": {},
     "output_type": "execute_result"
    }
   ],
   "source": [
    "data_chains_pivot = (data_chains.pivot_table(\n",
    "                                index='object_name',\n",
    "                                values=['number'],\n",
    "                                aggfunc=['count', 'sum'])\n",
    "                     .reset_index()\n",
    ")\n",
    "data_chains_pivot.columns = ['name', 'count', 'seats_sum']\n",
    "data_chains_pivot = data_chains_pivot.sort_values(by='count', ascending=False)\n",
    "data_chains_pivot['seats_one_obj'] = data_chains_pivot['seats_sum'] / data_chains_pivot['count']\n",
    "data_chains_pivot.head(5)"
   ]
  },
  {
   "cell_type": "markdown",
   "id": "4f67960c",
   "metadata": {},
   "source": [
    "Мы подготовили таблицу, посмотрим на корреляцию."
   ]
  },
  {
   "cell_type": "code",
   "execution_count": 29,
   "id": "f3984e9e",
   "metadata": {},
   "outputs": [
    {
     "data": {
      "text/html": [
       "<div>\n",
       "<style scoped>\n",
       "    .dataframe tbody tr th:only-of-type {\n",
       "        vertical-align: middle;\n",
       "    }\n",
       "\n",
       "    .dataframe tbody tr th {\n",
       "        vertical-align: top;\n",
       "    }\n",
       "\n",
       "    .dataframe thead th {\n",
       "        text-align: right;\n",
       "    }\n",
       "</style>\n",
       "<table border=\"1\" class=\"dataframe\">\n",
       "  <thead>\n",
       "    <tr style=\"text-align: right;\">\n",
       "      <th></th>\n",
       "      <th>count</th>\n",
       "      <th>seats_sum</th>\n",
       "      <th>seats_one_obj</th>\n",
       "    </tr>\n",
       "  </thead>\n",
       "  <tbody>\n",
       "    <tr>\n",
       "      <td>count</td>\n",
       "      <td>1.00</td>\n",
       "      <td>0.85</td>\n",
       "      <td>-0.04</td>\n",
       "    </tr>\n",
       "    <tr>\n",
       "      <td>seats_sum</td>\n",
       "      <td>0.85</td>\n",
       "      <td>1.00</td>\n",
       "      <td>0.16</td>\n",
       "    </tr>\n",
       "    <tr>\n",
       "      <td>seats_one_obj</td>\n",
       "      <td>-0.04</td>\n",
       "      <td>0.16</td>\n",
       "      <td>1.00</td>\n",
       "    </tr>\n",
       "  </tbody>\n",
       "</table>\n",
       "</div>"
      ],
      "text/plain": [
       "               count  seats_sum  seats_one_obj\n",
       "count           1.00       0.85          -0.04\n",
       "seats_sum       0.85       1.00           0.16\n",
       "seats_one_obj  -0.04       0.16           1.00"
      ]
     },
     "execution_count": 29,
     "metadata": {},
     "output_type": "execute_result"
    }
   ],
   "source": [
    "data_chains_pivot[['count', 'seats_sum', 'seats_one_obj']].corr()"
   ]
  },
  {
   "cell_type": "markdown",
   "id": "df19d70f",
   "metadata": {},
   "source": [
    "Судя по всему величина сети никак не влияет на кол-во мест, попробуем посмотреть каждый столбец детальнее.  \n",
    "Для этого используем функцию."
   ]
  },
  {
   "cell_type": "code",
   "execution_count": 30,
   "id": "4be97fa5",
   "metadata": {},
   "outputs": [],
   "source": [
    "def rare_values(df):\n",
    "    numerics = (['int8', 'int16', 'int32', 'int64', \n",
    "                 'uint8', 'uint16', 'uint32', 'uint64',\n",
    "                 'float16', 'float32', 'float64'])\n",
    "    if isinstance(df, pd.Series):\n",
    "        df = df.to_frame()\n",
    "    df_test = df.select_dtypes(include=numerics)   \n",
    "    for col in df_test.columns:\n",
    "        q1 = df_test[col].quantile(0.25)\n",
    "        q3 = df_test[col].quantile(0.75)\n",
    "        p95 = int(df_test[col].quantile(0.95))\n",
    "        p99 = int(df_test[col].quantile(0.99))\n",
    "        p_max = df_test[col].max()\n",
    "        iqr = q3 - q1\n",
    "        bot_border = q1 - iqr*1.5\n",
    "        top_border = q3 + iqr*1.5\n",
    "        rare_values_bot = df.query(f'{col} < @bot_border')[col].count()\n",
    "        rare_values_top = df.query(f'{col} > @top_border')[col].count()\n",
    "        print (f'Колонка - {col}\\n'\n",
    "                f'Первый квартиль = {q1}\\n'\n",
    "                f'Третий квартиль = {q3}\\n'\n",
    "                f'Значение 95% = {p95}\\n'\n",
    "                f'Значение 99% = {p99}\\n'\n",
    "                f'Максимальное значение = {p_max}\\n'\n",
    "                f'Нижняя граница = {bot_border}, Верхняя граница = {top_border}\\n'\n",
    "                f'Редкие значения меньше нижней границы = {rare_values_bot}\\n'\n",
    "                f'Редкие значения больше верхней границы = {rare_values_top}\\n'\n",
    "              )"
   ]
  },
  {
   "cell_type": "markdown",
   "id": "ca2353c9",
   "metadata": {},
   "source": [
    "Сперва применим метод `describe`."
   ]
  },
  {
   "cell_type": "code",
   "execution_count": 31,
   "id": "8de3a5ea",
   "metadata": {},
   "outputs": [
    {
     "data": {
      "text/html": [
       "<div>\n",
       "<style scoped>\n",
       "    .dataframe tbody tr th:only-of-type {\n",
       "        vertical-align: middle;\n",
       "    }\n",
       "\n",
       "    .dataframe tbody tr th {\n",
       "        vertical-align: top;\n",
       "    }\n",
       "\n",
       "    .dataframe thead th {\n",
       "        text-align: right;\n",
       "    }\n",
       "</style>\n",
       "<table border=\"1\" class=\"dataframe\">\n",
       "  <thead>\n",
       "    <tr style=\"text-align: right;\">\n",
       "      <th></th>\n",
       "      <th>count</th>\n",
       "      <th>mean</th>\n",
       "      <th>std</th>\n",
       "      <th>min</th>\n",
       "      <th>25%</th>\n",
       "      <th>50%</th>\n",
       "      <th>75%</th>\n",
       "      <th>max</th>\n",
       "    </tr>\n",
       "  </thead>\n",
       "  <tbody>\n",
       "    <tr>\n",
       "      <td>count</td>\n",
       "      <td>724.00</td>\n",
       "      <td>4.10</td>\n",
       "      <td>12.63</td>\n",
       "      <td>1.00</td>\n",
       "      <td>1.00</td>\n",
       "      <td>1.00</td>\n",
       "      <td>2.00</td>\n",
       "      <td>155.00</td>\n",
       "    </tr>\n",
       "    <tr>\n",
       "      <td>seats_sum</td>\n",
       "      <td>724.00</td>\n",
       "      <td>216.94</td>\n",
       "      <td>718.90</td>\n",
       "      <td>0.00</td>\n",
       "      <td>30.00</td>\n",
       "      <td>70.00</td>\n",
       "      <td>150.00</td>\n",
       "      <td>9943.00</td>\n",
       "    </tr>\n",
       "    <tr>\n",
       "      <td>seats_one_obj</td>\n",
       "      <td>724.00</td>\n",
       "      <td>60.32</td>\n",
       "      <td>56.13</td>\n",
       "      <td>0.00</td>\n",
       "      <td>20.00</td>\n",
       "      <td>45.00</td>\n",
       "      <td>83.62</td>\n",
       "      <td>356.00</td>\n",
       "    </tr>\n",
       "  </tbody>\n",
       "</table>\n",
       "</div>"
      ],
      "text/plain": [
       "               count   mean    std  min   25%   50%    75%     max\n",
       "count         724.00   4.10  12.63 1.00  1.00  1.00   2.00  155.00\n",
       "seats_sum     724.00 216.94 718.90 0.00 30.00 70.00 150.00 9943.00\n",
       "seats_one_obj 724.00  60.32  56.13 0.00 20.00 45.00  83.62  356.00"
      ]
     },
     "execution_count": 31,
     "metadata": {},
     "output_type": "execute_result"
    }
   ],
   "source": [
    "data_chains_pivot.describe().T"
   ]
  },
  {
   "cell_type": "markdown",
   "id": "caff7c7f",
   "metadata": {},
   "source": [
    "- Мы видим, что большая часть сетей имеет по 1-2 заведению.  \n",
    "- Количество сидячих мест на одно заведение варьируется от 0 до 356.  \n",
    "  \n",
    "Применим функцию."
   ]
  },
  {
   "cell_type": "code",
   "execution_count": 32,
   "id": "151fe7cb",
   "metadata": {},
   "outputs": [
    {
     "name": "stdout",
     "output_type": "stream",
     "text": [
      "Колонка - count\n",
      "Первый квартиль = 1.0\n",
      "Третий квартиль = 2.0\n",
      "Значение 95% = 12\n",
      "Значение 99% = 64\n",
      "Максимальное значение = 155\n",
      "Нижняя граница = -0.5, Верхняя граница = 3.5\n",
      "Редкие значения меньше нижней границы = 0\n",
      "Редкие значения больше верхней границы = 131\n",
      "\n",
      "Колонка - seats_sum\n",
      "Первый квартиль = 30.0\n",
      "Третий квартиль = 150.0\n",
      "Значение 95% = 784\n",
      "Значение 99% = 3010\n",
      "Максимальное значение = 9943\n",
      "Нижняя граница = -150.0, Верхняя граница = 330.0\n",
      "Редкие значения меньше нижней границы = 0\n",
      "Редкие значения больше верхней границы = 83\n",
      "\n",
      "Колонка - seats_one_obj\n",
      "Первый квартиль = 20.0\n",
      "Третий квартиль = 83.625\n",
      "Значение 95% = 164\n",
      "Значение 99% = 262\n",
      "Максимальное значение = 356.0\n",
      "Нижняя граница = -75.4375, Верхняя граница = 179.0625\n",
      "Редкие значения меньше нижней границы = 0\n",
      "Редкие значения больше верхней границы = 30\n",
      "\n"
     ]
    }
   ],
   "source": [
    "rare_values(data_chains_pivot)"
   ]
  },
  {
   "cell_type": "markdown",
   "id": "eebd09cd",
   "metadata": {},
   "source": [
    "Разделим наши данные на 2 части:\n",
    "- Сети с 1-2 объектами;\n",
    "- Сети с больше чем 2 объектами;"
   ]
  },
  {
   "cell_type": "code",
   "execution_count": 33,
   "id": "a823627f",
   "metadata": {},
   "outputs": [],
   "source": [
    "data_chains_small = data_chains_pivot.query('count < 3')\n",
    "data_chains_big = data_chains_pivot.query('count > 2')"
   ]
  },
  {
   "cell_type": "markdown",
   "id": "3799710b",
   "metadata": {},
   "source": [
    "Теперь посмотрим на эти объекты поподробнее."
   ]
  },
  {
   "cell_type": "code",
   "execution_count": 34,
   "id": "ebd057d8",
   "metadata": {},
   "outputs": [
    {
     "data": {
      "text/plain": [
       "549"
      ]
     },
     "execution_count": 34,
     "metadata": {},
     "output_type": "execute_result"
    }
   ],
   "source": [
    "len(data_chains_small.groupby('name'))"
   ]
  },
  {
   "cell_type": "markdown",
   "id": "d966e06c",
   "metadata": {},
   "source": [
    "В выборку у нас попало 549 компаний."
   ]
  },
  {
   "cell_type": "code",
   "execution_count": 35,
   "id": "300ff3b3",
   "metadata": {},
   "outputs": [
    {
     "data": {
      "image/png": "[encoded data removed]",
      "text/plain": [
       "<Figure size 432x288 with 1 Axes>"
      ]
     },
     "metadata": {
      "needs_background": "light"
     },
     "output_type": "display_data"
    }
   ],
   "source": [
    "sns.boxplot(y='seats_one_obj' , data=data_chains_small)\n",
    "\n",
    "plt.ylabel('Кол-во мест')\n",
    "plt.title('Разброс кол-ва мест у заведений с небольшим кол-вом объектов.')\n",
    "plt.show()"
   ]
  },
  {
   "cell_type": "code",
   "execution_count": 36,
   "id": "d37ce2fa",
   "metadata": {},
   "outputs": [
    {
     "data": {
      "text/plain": [
       "count   549.00\n",
       "mean     60.98\n",
       "std      58.62\n",
       "min       0.00\n",
       "25%      20.00\n",
       "50%      45.00\n",
       "75%      85.00\n",
       "max     356.00\n",
       "Name: seats_one_obj, dtype: float64"
      ]
     },
     "execution_count": 36,
     "metadata": {},
     "output_type": "execute_result"
    }
   ],
   "source": [
    "data_chains_small['seats_one_obj'].describe()"
   ]
  },
  {
   "cell_type": "code",
   "execution_count": 37,
   "id": "534b4c9e",
   "metadata": {},
   "outputs": [
    {
     "name": "stdout",
     "output_type": "stream",
     "text": [
      "Колонка - seats_one_obj\n",
      "Первый квартиль = 20.0\n",
      "Третий квартиль = 85.0\n",
      "Значение 95% = 175\n",
      "Значение 99% = 281\n",
      "Максимальное значение = 356.0\n",
      "Нижняя граница = -77.5, Верхняя граница = 182.5\n",
      "Редкие значения меньше нижней границы = 0\n",
      "Редкие значения больше верхней границы = 25\n",
      "\n"
     ]
    }
   ],
   "source": [
    "rare_values(data_chains_small['seats_one_obj'])"
   ]
  },
  {
   "cell_type": "markdown",
   "id": "2478ab98",
   "metadata": {},
   "source": [
    "Заведения с кол-вом объектов менее 3, предпочитают открывать точки с количеством мест от 20 до 85.  \n",
    "Теперь разберем так же заведения с кол-вом объектов более 2х."
   ]
  },
  {
   "cell_type": "code",
   "execution_count": 38,
   "id": "98b6e428",
   "metadata": {},
   "outputs": [
    {
     "data": {
      "text/plain": [
       "175"
      ]
     },
     "execution_count": 38,
     "metadata": {},
     "output_type": "execute_result"
    }
   ],
   "source": [
    "len(data_chains_big.groupby('name'))"
   ]
  },
  {
   "cell_type": "markdown",
   "id": "15ba5136",
   "metadata": {},
   "source": [
    "Таких гораздо меньше, всего 175."
   ]
  },
  {
   "cell_type": "code",
   "execution_count": 39,
   "id": "261f9768",
   "metadata": {},
   "outputs": [
    {
     "data": {
      "image/png": "[encoded data removed]",
      "text/plain": [
       "<Figure size 432x288 with 1 Axes>"
      ]
     },
     "metadata": {
      "needs_background": "light"
     },
     "output_type": "display_data"
    }
   ],
   "source": [
    "sns.boxplot(y='seats_one_obj' , data=data_chains_big)\n",
    "\n",
    "plt.ylabel('Кол-во мест')\n",
    "plt.title('Разброс кол-ва мест у заведений с кол-вом объектов больше 2х.')\n",
    "plt.show()"
   ]
  },
  {
   "cell_type": "code",
   "execution_count": 40,
   "id": "77ff6661",
   "metadata": {},
   "outputs": [
    {
     "data": {
      "text/plain": [
       "count   175.00\n",
       "mean     58.26\n",
       "std      47.58\n",
       "min       0.00\n",
       "25%      20.92\n",
       "50%      44.57\n",
       "75%      82.96\n",
       "max     203.33\n",
       "Name: seats_one_obj, dtype: float64"
      ]
     },
     "execution_count": 40,
     "metadata": {},
     "output_type": "execute_result"
    }
   ],
   "source": [
    "data_chains_big['seats_one_obj'].describe()"
   ]
  },
  {
   "cell_type": "code",
   "execution_count": 41,
   "id": "1b669f9e",
   "metadata": {},
   "outputs": [
    {
     "name": "stdout",
     "output_type": "stream",
     "text": [
      "Колонка - seats_one_obj\n",
      "Первый квартиль = 20.915441176470587\n",
      "Третий квартиль = 82.95833333333334\n",
      "Значение 95% = 151\n",
      "Значение 99% = 187\n",
      "Максимальное значение = 203.33333333333334\n",
      "Нижняя граница = -72.14889705882354, Верхняя граница = 176.02267156862746\n",
      "Редкие значения меньше нижней границы = 0\n",
      "Редкие значения больше верхней границы = 3\n",
      "\n"
     ]
    }
   ],
   "source": [
    "rare_values(data_chains_big['seats_one_obj'])"
   ]
  },
  {
   "cell_type": "markdown",
   "id": "ad00ca77",
   "metadata": {},
   "source": [
    "Тут примерно те же цифры, крупные сети предпочитают открывать объекты с количеством мест от 20 до 82. "
   ]
  },
  {
   "cell_type": "markdown",
   "id": "25d4d99c",
   "metadata": {},
   "source": [
    "#### Краткий вывод\n",
    "Вне зависимости от размера сети, больше всего в ходу заведения с количеством мест около 45-47."
   ]
  },
  {
   "cell_type": "markdown",
   "id": "d1f088e5",
   "metadata": {},
   "source": [
    "### Какое количество посадочных мест характерно для каждого объекта общественного питания. \n",
    "\n",
    "Для каждого вида объекта общественного питания опишем среднее количество посадочных мест. Какой вид предоставляет в среднем самое большое количество посадочных мест? "
   ]
  },
  {
   "cell_type": "code",
   "execution_count": 42,
   "id": "105d7fca",
   "metadata": {},
   "outputs": [
    {
     "data": {
      "text/html": [
       "<div>\n",
       "<style scoped>\n",
       "    .dataframe tbody tr th:only-of-type {\n",
       "        vertical-align: middle;\n",
       "    }\n",
       "\n",
       "    .dataframe tbody tr th {\n",
       "        vertical-align: top;\n",
       "    }\n",
       "\n",
       "    .dataframe thead th {\n",
       "        text-align: right;\n",
       "    }\n",
       "</style>\n",
       "<table border=\"1\" class=\"dataframe\">\n",
       "  <thead>\n",
       "    <tr style=\"text-align: right;\">\n",
       "      <th></th>\n",
       "      <th>id</th>\n",
       "      <th>object_name</th>\n",
       "      <th>chain</th>\n",
       "      <th>object_type</th>\n",
       "      <th>address</th>\n",
       "      <th>number</th>\n",
       "      <th>street</th>\n",
       "    </tr>\n",
       "  </thead>\n",
       "  <tbody>\n",
       "    <tr>\n",
       "      <td>14059</td>\n",
       "      <td>222541</td>\n",
       "      <td>Oki Sushi</td>\n",
       "      <td>нет</td>\n",
       "      <td>магазин (отдел кулинарии)</td>\n",
       "      <td>город Москва, Литовский бульвар, дом 22</td>\n",
       "      <td>0</td>\n",
       "      <td>Литовский бульвар</td>\n",
       "    </tr>\n",
       "  </tbody>\n",
       "</table>\n",
       "</div>"
      ],
      "text/plain": [
       "           id object_name chain                object_type  \\\n",
       "14059  222541   Oki Sushi   нет  магазин (отдел кулинарии)   \n",
       "\n",
       "                                       address  number             street  \n",
       "14059  город Москва, Литовский бульвар, дом 22       0  Литовский бульвар  "
      ]
     },
     "execution_count": 42,
     "metadata": {},
     "output_type": "execute_result"
    }
   ],
   "source": [
    "data.sample(1)"
   ]
  },
  {
   "cell_type": "markdown",
   "id": "f78db78b",
   "metadata": {},
   "source": [
    "Сделаем сводную таблицу."
   ]
  },
  {
   "cell_type": "code",
   "execution_count": 43,
   "id": "900298e4",
   "metadata": {},
   "outputs": [
    {
     "data": {
      "text/html": [
       "<div>\n",
       "<style scoped>\n",
       "    .dataframe tbody tr th:only-of-type {\n",
       "        vertical-align: middle;\n",
       "    }\n",
       "\n",
       "    .dataframe tbody tr th {\n",
       "        vertical-align: top;\n",
       "    }\n",
       "\n",
       "    .dataframe thead th {\n",
       "        text-align: right;\n",
       "    }\n",
       "</style>\n",
       "<table border=\"1\" class=\"dataframe\">\n",
       "  <thead>\n",
       "    <tr style=\"text-align: right;\">\n",
       "      <th></th>\n",
       "      <th>object_type</th>\n",
       "      <th>count</th>\n",
       "      <th>seats_sum</th>\n",
       "      <th>seats_one_obj</th>\n",
       "    </tr>\n",
       "  </thead>\n",
       "  <tbody>\n",
       "    <tr>\n",
       "      <td>7</td>\n",
       "      <td>столовая</td>\n",
       "      <td>2587</td>\n",
       "      <td>336948</td>\n",
       "      <td>130.25</td>\n",
       "    </tr>\n",
       "    <tr>\n",
       "      <td>6</td>\n",
       "      <td>ресторан</td>\n",
       "      <td>2285</td>\n",
       "      <td>221266</td>\n",
       "      <td>96.83</td>\n",
       "    </tr>\n",
       "    <tr>\n",
       "      <td>1</td>\n",
       "      <td>буфет</td>\n",
       "      <td>585</td>\n",
       "      <td>29911</td>\n",
       "      <td>51.13</td>\n",
       "    </tr>\n",
       "    <tr>\n",
       "      <td>0</td>\n",
       "      <td>бар</td>\n",
       "      <td>856</td>\n",
       "      <td>37231</td>\n",
       "      <td>43.49</td>\n",
       "    </tr>\n",
       "    <tr>\n",
       "      <td>3</td>\n",
       "      <td>кафе</td>\n",
       "      <td>6497</td>\n",
       "      <td>245859</td>\n",
       "      <td>37.84</td>\n",
       "    </tr>\n",
       "    <tr>\n",
       "      <td>5</td>\n",
       "      <td>предприятие быстрого обслуживания</td>\n",
       "      <td>1923</td>\n",
       "      <td>39522</td>\n",
       "      <td>20.55</td>\n",
       "    </tr>\n",
       "    <tr>\n",
       "      <td>2</td>\n",
       "      <td>закусочная</td>\n",
       "      <td>360</td>\n",
       "      <td>2739</td>\n",
       "      <td>7.61</td>\n",
       "    </tr>\n",
       "    <tr>\n",
       "      <td>4</td>\n",
       "      <td>магазин (отдел кулинарии)</td>\n",
       "      <td>273</td>\n",
       "      <td>1526</td>\n",
       "      <td>5.59</td>\n",
       "    </tr>\n",
       "  </tbody>\n",
       "</table>\n",
       "</div>"
      ],
      "text/plain": [
       "                         object_type  count  seats_sum  seats_one_obj\n",
       "7                           столовая   2587     336948         130.25\n",
       "6                           ресторан   2285     221266          96.83\n",
       "1                              буфет    585      29911          51.13\n",
       "0                                бар    856      37231          43.49\n",
       "3                               кафе   6497     245859          37.84\n",
       "5  предприятие быстрого обслуживания   1923      39522          20.55\n",
       "2                         закусочная    360       2739           7.61\n",
       "4          магазин (отдел кулинарии)    273       1526           5.59"
      ]
     },
     "execution_count": 43,
     "metadata": {},
     "output_type": "execute_result"
    }
   ],
   "source": [
    "data_obj = (data.pivot_table(\n",
    "                                index='object_type',\n",
    "                                values=['number'],\n",
    "                                aggfunc=['count', 'sum'])\n",
    "                .reset_index()\n",
    ")\n",
    "data_obj.columns = ['object_type', 'count', 'seats_sum']\n",
    "data_obj['seats_one_obj'] = data_obj['seats_sum'] / data_obj['count']\n",
    "data_obj = data_obj.sort_values(by='seats_one_obj', ascending=False)\n",
    "data_obj"
   ]
  },
  {
   "cell_type": "markdown",
   "id": "0321bd87",
   "metadata": {},
   "source": [
    "Построим график."
   ]
  },
  {
   "cell_type": "code",
   "execution_count": 44,
   "id": "c1990976",
   "metadata": {
    "scrolled": true
   },
   "outputs": [
    {
     "data": {
      "image/png": "[encoded data removed]",
      "text/plain": [
       "<Figure size 432x288 with 1 Axes>"
      ]
     },
     "metadata": {
      "needs_background": "light"
     },
     "output_type": "display_data"
    }
   ],
   "source": [
    "sns.barplot(\n",
    "    y='object_type', \n",
    "    x='seats_one_obj',\n",
    "    data=data_obj)\n",
    "\n",
    "plt.xlabel('Среднее кол-во сидячих мест')\n",
    "plt.ylabel('Вид объекта')\n",
    "plt.title('Среднее кол-во сидячих мест по видам объектов общественного питания в Москве.')\n",
    "plt.show()"
   ]
  },
  {
   "cell_type": "markdown",
   "id": "b968f803",
   "metadata": {},
   "source": [
    "#### Краткий вывод\n",
    "- Среди видов объектов общественнного питания по кол-ву сидячих мест лидирует *Столовая*;\n",
    "- В аутсайдерах оказался *магазин с отделом кулинарии* и *закусочная*;\n",
    "- *Столовая* в среднем имеет 130 сидячих мест, *ресторан* - 96, что в два раза превышает среднее кол-во сидячих мест в *барах* и *буфетах*;"
   ]
  },
  {
   "cell_type": "markdown",
   "id": "de8e54b3",
   "metadata": {},
   "source": [
    "### Посмотрим на топ-10 улиц по кол-ву объектов общественного питания.\n",
    "Так же определим в каком районе они расположены."
   ]
  },
  {
   "cell_type": "code",
   "execution_count": 45,
   "id": "b8be4e36",
   "metadata": {},
   "outputs": [
    {
     "data": {
      "text/html": [
       "<div>\n",
       "<style scoped>\n",
       "    .dataframe tbody tr th:only-of-type {\n",
       "        vertical-align: middle;\n",
       "    }\n",
       "\n",
       "    .dataframe tbody tr th {\n",
       "        vertical-align: top;\n",
       "    }\n",
       "\n",
       "    .dataframe thead th {\n",
       "        text-align: right;\n",
       "    }\n",
       "</style>\n",
       "<table border=\"1\" class=\"dataframe\">\n",
       "  <thead>\n",
       "    <tr style=\"text-align: right;\">\n",
       "      <th></th>\n",
       "      <th>id</th>\n",
       "      <th>object_name</th>\n",
       "      <th>chain</th>\n",
       "      <th>object_type</th>\n",
       "      <th>address</th>\n",
       "      <th>number</th>\n",
       "      <th>street</th>\n",
       "    </tr>\n",
       "  </thead>\n",
       "  <tbody>\n",
       "    <tr>\n",
       "      <td>13210</td>\n",
       "      <td>200435</td>\n",
       "      <td>Кафе «Кофепорт»</td>\n",
       "      <td>нет</td>\n",
       "      <td>кафе</td>\n",
       "      <td>город Москва, улица Сергея Макеева, дом 13</td>\n",
       "      <td>2</td>\n",
       "      <td>улица Сергея Макеева</td>\n",
       "    </tr>\n",
       "  </tbody>\n",
       "</table>\n",
       "</div>"
      ],
      "text/plain": [
       "           id      object_name chain object_type  \\\n",
       "13210  200435  Кафе «Кофепорт»   нет        кафе   \n",
       "\n",
       "                                          address  number  \\\n",
       "13210  город Москва, улица Сергея Макеева, дом 13       2   \n",
       "\n",
       "                     street  \n",
       "13210  улица Сергея Макеева  "
      ]
     },
     "execution_count": 45,
     "metadata": {},
     "output_type": "execute_result"
    }
   ],
   "source": [
    "data.sample(1)"
   ]
  },
  {
   "cell_type": "code",
   "execution_count": 46,
   "id": "5dd9c1fe",
   "metadata": {},
   "outputs": [
    {
     "data": {
      "text/html": [
       "<div>\n",
       "<style scoped>\n",
       "    .dataframe tbody tr th:only-of-type {\n",
       "        vertical-align: middle;\n",
       "    }\n",
       "\n",
       "    .dataframe tbody tr th {\n",
       "        vertical-align: top;\n",
       "    }\n",
       "\n",
       "    .dataframe thead th {\n",
       "        text-align: right;\n",
       "    }\n",
       "</style>\n",
       "<table border=\"1\" class=\"dataframe\">\n",
       "  <thead>\n",
       "    <tr style=\"text-align: right;\">\n",
       "      <th></th>\n",
       "      <th>street</th>\n",
       "      <th>count</th>\n",
       "    </tr>\n",
       "  </thead>\n",
       "  <tbody>\n",
       "    <tr>\n",
       "      <td>1334</td>\n",
       "      <td>город Зеленоград</td>\n",
       "      <td>232</td>\n",
       "    </tr>\n",
       "    <tr>\n",
       "      <td>1452</td>\n",
       "      <td>проспект Мира</td>\n",
       "      <td>204</td>\n",
       "    </tr>\n",
       "    <tr>\n",
       "      <td>993</td>\n",
       "      <td>Профсоюзная улица</td>\n",
       "      <td>182</td>\n",
       "    </tr>\n",
       "    <tr>\n",
       "      <td>683</td>\n",
       "      <td>Ленинградский проспект</td>\n",
       "      <td>171</td>\n",
       "    </tr>\n",
       "    <tr>\n",
       "      <td>979</td>\n",
       "      <td>Пресненская набережная</td>\n",
       "      <td>167</td>\n",
       "    </tr>\n",
       "    <tr>\n",
       "      <td>407</td>\n",
       "      <td>Варшавское шоссе</td>\n",
       "      <td>161</td>\n",
       "    </tr>\n",
       "    <tr>\n",
       "      <td>686</td>\n",
       "      <td>Ленинский проспект</td>\n",
       "      <td>147</td>\n",
       "    </tr>\n",
       "    <tr>\n",
       "      <td>1419</td>\n",
       "      <td>поселение Сосенское</td>\n",
       "      <td>138</td>\n",
       "    </tr>\n",
       "    <tr>\n",
       "      <td>1449</td>\n",
       "      <td>проспект Вернадского</td>\n",
       "      <td>132</td>\n",
       "    </tr>\n",
       "    <tr>\n",
       "      <td>674</td>\n",
       "      <td>Кутузовский проспект</td>\n",
       "      <td>114</td>\n",
       "    </tr>\n",
       "  </tbody>\n",
       "</table>\n",
       "</div>"
      ],
      "text/plain": [
       "                      street  count\n",
       "1334        город Зеленоград    232\n",
       "1452           проспект Мира    204\n",
       "993        Профсоюзная улица    182\n",
       "683   Ленинградский проспект    171\n",
       "979   Пресненская набережная    167\n",
       "407         Варшавское шоссе    161\n",
       "686       Ленинский проспект    147\n",
       "1419     поселение Сосенское    138\n",
       "1449    проспект Вернадского    132\n",
       "674     Кутузовский проспект    114"
      ]
     },
     "execution_count": 46,
     "metadata": {},
     "output_type": "execute_result"
    }
   ],
   "source": [
    "data_streets = (data.pivot_table(\n",
    "                                index='street',\n",
    "                                values='id',\n",
    "                                aggfunc='count')\n",
    "                     .reset_index()\n",
    ")\n",
    "data_streets.columns = ['street', 'count']\n",
    "data_streets = data_streets.sort_values(by='count', ascending=False)\n",
    "data_streets.head(10)"
   ]
  },
  {
   "cell_type": "code",
   "execution_count": 47,
   "id": "4d705cf1",
   "metadata": {},
   "outputs": [
    {
     "data": {
      "text/html": [
       "<div>\n",
       "<style scoped>\n",
       "    .dataframe tbody tr th:only-of-type {\n",
       "        vertical-align: middle;\n",
       "    }\n",
       "\n",
       "    .dataframe tbody tr th {\n",
       "        vertical-align: top;\n",
       "    }\n",
       "\n",
       "    .dataframe thead th {\n",
       "        text-align: right;\n",
       "    }\n",
       "</style>\n",
       "<table border=\"1\" class=\"dataframe\">\n",
       "  <thead>\n",
       "    <tr style=\"text-align: right;\">\n",
       "      <th></th>\n",
       "      <th>id</th>\n",
       "      <th>object_name</th>\n",
       "      <th>chain</th>\n",
       "      <th>object_type</th>\n",
       "      <th>address</th>\n",
       "      <th>number</th>\n",
       "      <th>street</th>\n",
       "    </tr>\n",
       "  </thead>\n",
       "  <tbody>\n",
       "    <tr>\n",
       "      <td>1386</td>\n",
       "      <td>22331</td>\n",
       "      <td>СТОЛОВАЯ МИЭТ</td>\n",
       "      <td>нет</td>\n",
       "      <td>столовая</td>\n",
       "      <td>город Москва, город Зеленоград, улица Юности, дом 11</td>\n",
       "      <td>56</td>\n",
       "      <td>город Зеленоград</td>\n",
       "    </tr>\n",
       "    <tr>\n",
       "      <td>1405</td>\n",
       "      <td>20199</td>\n",
       "      <td>ЭТО</td>\n",
       "      <td>нет</td>\n",
       "      <td>кафе</td>\n",
       "      <td>город Москва, город Зеленоград, корпус 401</td>\n",
       "      <td>35</td>\n",
       "      <td>город Зеленоград</td>\n",
       "    </tr>\n",
       "    <tr>\n",
       "      <td>1406</td>\n",
       "      <td>68113</td>\n",
       "      <td>Френдс</td>\n",
       "      <td>нет</td>\n",
       "      <td>кафе</td>\n",
       "      <td>город Москва, город Зеленоград, корпус 435</td>\n",
       "      <td>34</td>\n",
       "      <td>город Зеленоград</td>\n",
       "    </tr>\n",
       "    <tr>\n",
       "      <td>1407</td>\n",
       "      <td>20105</td>\n",
       "      <td>Кафе «Граф Монте-Кристо»</td>\n",
       "      <td>нет</td>\n",
       "      <td>кафе</td>\n",
       "      <td>город Москва, город Зеленоград, корпус 436</td>\n",
       "      <td>40</td>\n",
       "      <td>город Зеленоград</td>\n",
       "    </tr>\n",
       "    <tr>\n",
       "      <td>1408</td>\n",
       "      <td>22982</td>\n",
       "      <td>Альфорно</td>\n",
       "      <td>нет</td>\n",
       "      <td>кафе</td>\n",
       "      <td>город Москва, город Зеленоград, корпус 438</td>\n",
       "      <td>49</td>\n",
       "      <td>город Зеленоград</td>\n",
       "    </tr>\n",
       "  </tbody>\n",
       "</table>\n",
       "</div>"
      ],
      "text/plain": [
       "         id               object_name chain object_type  \\\n",
       "1386  22331             СТОЛОВАЯ МИЭТ   нет    столовая   \n",
       "1405  20199                       ЭТО   нет        кафе   \n",
       "1406  68113                    Френдс   нет        кафе   \n",
       "1407  20105  Кафе «Граф Монте-Кристо»   нет        кафе   \n",
       "1408  22982                  Альфорно   нет        кафе   \n",
       "\n",
       "                                                   address  number  \\\n",
       "1386  город Москва, город Зеленоград, улица Юности, дом 11      56   \n",
       "1405            город Москва, город Зеленоград, корпус 401      35   \n",
       "1406            город Москва, город Зеленоград, корпус 435      34   \n",
       "1407            город Москва, город Зеленоград, корпус 436      40   \n",
       "1408            город Москва, город Зеленоград, корпус 438      49   \n",
       "\n",
       "                street  \n",
       "1386  город Зеленоград  \n",
       "1405  город Зеленоград  \n",
       "1406  город Зеленоград  \n",
       "1407  город Зеленоград  \n",
       "1408  город Зеленоград  "
      ]
     },
     "execution_count": 47,
     "metadata": {},
     "output_type": "execute_result"
    }
   ],
   "source": [
    "data.query('street == \"город Зеленоград\"').head(5)"
   ]
  },
  {
   "cell_type": "markdown",
   "id": "a2532191",
   "metadata": {},
   "source": [
    "И так у нас есть топ 10.  \n",
    "Мы видим, что многие улицы представлены как поселения или города. При ближайшем рассмотрении мы видим, что ряд из них вовсе не имеет улиц. Попробуем исключить их из выборки для чистоты эксперемента."
   ]
  },
  {
   "cell_type": "markdown",
   "id": "cb68b4e5",
   "metadata": {},
   "source": [
    "Сперва напишем функцию."
   ]
  },
  {
   "cell_type": "code",
   "execution_count": 48,
   "id": "db4b953b",
   "metadata": {},
   "outputs": [],
   "source": [
    "def drop_town(line):\n",
    "    drop = [\n",
    "        'город',\n",
    "        'поселение',\n",
    "        'проспект',\n",
    "        'шоссе'\n",
    "    ]\n",
    "    if re.split('\\s+', line)[0] in drop:\n",
    "        return 'не улица'\n",
    "    elif re.split('\\s+', line)[-1] in drop:\n",
    "        return 'не улица'\n",
    "    else:\n",
    "        return line"
   ]
  },
  {
   "cell_type": "markdown",
   "id": "df1fc7b7",
   "metadata": {},
   "source": [
    "Далее применим ее к нашим данным."
   ]
  },
  {
   "cell_type": "code",
   "execution_count": 49,
   "id": "0c91a0d9",
   "metadata": {},
   "outputs": [],
   "source": [
    "data_streets['street'] = data_streets['street'].apply(drop_town)"
   ]
  },
  {
   "cell_type": "code",
   "execution_count": 50,
   "id": "e6eb0800",
   "metadata": {
    "scrolled": true
   },
   "outputs": [
    {
     "data": {
      "text/html": [
       "<div>\n",
       "<style scoped>\n",
       "    .dataframe tbody tr th:only-of-type {\n",
       "        vertical-align: middle;\n",
       "    }\n",
       "\n",
       "    .dataframe tbody tr th {\n",
       "        vertical-align: top;\n",
       "    }\n",
       "\n",
       "    .dataframe thead th {\n",
       "        text-align: right;\n",
       "    }\n",
       "</style>\n",
       "<table border=\"1\" class=\"dataframe\">\n",
       "  <thead>\n",
       "    <tr style=\"text-align: right;\">\n",
       "      <th></th>\n",
       "      <th>street</th>\n",
       "      <th>count</th>\n",
       "    </tr>\n",
       "  </thead>\n",
       "  <tbody>\n",
       "    <tr>\n",
       "      <td>993</td>\n",
       "      <td>Профсоюзная улица</td>\n",
       "      <td>182</td>\n",
       "    </tr>\n",
       "    <tr>\n",
       "      <td>979</td>\n",
       "      <td>Пресненская набережная</td>\n",
       "      <td>167</td>\n",
       "    </tr>\n",
       "    <tr>\n",
       "      <td>605</td>\n",
       "      <td>Кировоградская улица</td>\n",
       "      <td>110</td>\n",
       "    </tr>\n",
       "    <tr>\n",
       "      <td>1251</td>\n",
       "      <td>Ходынский бульвар</td>\n",
       "      <td>102</td>\n",
       "    </tr>\n",
       "    <tr>\n",
       "      <td>1751</td>\n",
       "      <td>улица Новый Арбат</td>\n",
       "      <td>92</td>\n",
       "    </tr>\n",
       "    <tr>\n",
       "      <td>1851</td>\n",
       "      <td>улица Сущёвский Вал</td>\n",
       "      <td>86</td>\n",
       "    </tr>\n",
       "    <tr>\n",
       "      <td>1674</td>\n",
       "      <td>улица Ленинская Слобода</td>\n",
       "      <td>85</td>\n",
       "    </tr>\n",
       "    <tr>\n",
       "      <td>1004</td>\n",
       "      <td>Пятницкая улица</td>\n",
       "      <td>80</td>\n",
       "    </tr>\n",
       "    <tr>\n",
       "      <td>1609</td>\n",
       "      <td>улица Земляной Вал</td>\n",
       "      <td>79</td>\n",
       "    </tr>\n",
       "    <tr>\n",
       "      <td>1531</td>\n",
       "      <td>улица Вавилова</td>\n",
       "      <td>78</td>\n",
       "    </tr>\n",
       "  </tbody>\n",
       "</table>\n",
       "</div>"
      ],
      "text/plain": [
       "                       street  count\n",
       "993         Профсоюзная улица    182\n",
       "979    Пресненская набережная    167\n",
       "605      Кировоградская улица    110\n",
       "1251        Ходынский бульвар    102\n",
       "1751        улица Новый Арбат     92\n",
       "1851      улица Сущёвский Вал     86\n",
       "1674  улица Ленинская Слобода     85\n",
       "1004          Пятницкая улица     80\n",
       "1609       улица Земляной Вал     79\n",
       "1531           улица Вавилова     78"
      ]
     },
     "execution_count": 50,
     "metadata": {},
     "output_type": "execute_result"
    }
   ],
   "source": [
    "data_streets.query('street != \"не улица\"').head(10)"
   ]
  },
  {
   "cell_type": "markdown",
   "id": "1890b494",
   "metadata": {},
   "source": [
    "Проспекты и шоссе так же требуется убрать, модернизируем нашу функцию."
   ]
  },
  {
   "cell_type": "code",
   "execution_count": 51,
   "id": "7156a3e2",
   "metadata": {},
   "outputs": [
    {
     "data": {
      "text/html": [
       "<div>\n",
       "<style scoped>\n",
       "    .dataframe tbody tr th:only-of-type {\n",
       "        vertical-align: middle;\n",
       "    }\n",
       "\n",
       "    .dataframe tbody tr th {\n",
       "        vertical-align: top;\n",
       "    }\n",
       "\n",
       "    .dataframe thead th {\n",
       "        text-align: right;\n",
       "    }\n",
       "</style>\n",
       "<table border=\"1\" class=\"dataframe\">\n",
       "  <thead>\n",
       "    <tr style=\"text-align: right;\">\n",
       "      <th></th>\n",
       "      <th>street</th>\n",
       "      <th>count</th>\n",
       "    </tr>\n",
       "  </thead>\n",
       "  <tbody>\n",
       "    <tr>\n",
       "      <td>993</td>\n",
       "      <td>Профсоюзная улица</td>\n",
       "      <td>182</td>\n",
       "    </tr>\n",
       "    <tr>\n",
       "      <td>979</td>\n",
       "      <td>Пресненская набережная</td>\n",
       "      <td>167</td>\n",
       "    </tr>\n",
       "    <tr>\n",
       "      <td>605</td>\n",
       "      <td>Кировоградская улица</td>\n",
       "      <td>110</td>\n",
       "    </tr>\n",
       "    <tr>\n",
       "      <td>1251</td>\n",
       "      <td>Ходынский бульвар</td>\n",
       "      <td>102</td>\n",
       "    </tr>\n",
       "    <tr>\n",
       "      <td>1751</td>\n",
       "      <td>улица Новый Арбат</td>\n",
       "      <td>92</td>\n",
       "    </tr>\n",
       "    <tr>\n",
       "      <td>1851</td>\n",
       "      <td>улица Сущёвский Вал</td>\n",
       "      <td>86</td>\n",
       "    </tr>\n",
       "    <tr>\n",
       "      <td>1674</td>\n",
       "      <td>улица Ленинская Слобода</td>\n",
       "      <td>85</td>\n",
       "    </tr>\n",
       "    <tr>\n",
       "      <td>1004</td>\n",
       "      <td>Пятницкая улица</td>\n",
       "      <td>80</td>\n",
       "    </tr>\n",
       "    <tr>\n",
       "      <td>1609</td>\n",
       "      <td>улица Земляной Вал</td>\n",
       "      <td>79</td>\n",
       "    </tr>\n",
       "    <tr>\n",
       "      <td>1531</td>\n",
       "      <td>улица Вавилова</td>\n",
       "      <td>78</td>\n",
       "    </tr>\n",
       "  </tbody>\n",
       "</table>\n",
       "</div>"
      ],
      "text/plain": [
       "                       street  count\n",
       "993         Профсоюзная улица    182\n",
       "979    Пресненская набережная    167\n",
       "605      Кировоградская улица    110\n",
       "1251        Ходынский бульвар    102\n",
       "1751        улица Новый Арбат     92\n",
       "1851      улица Сущёвский Вал     86\n",
       "1674  улица Ленинская Слобода     85\n",
       "1004          Пятницкая улица     80\n",
       "1609       улица Земляной Вал     79\n",
       "1531           улица Вавилова     78"
      ]
     },
     "execution_count": 51,
     "metadata": {},
     "output_type": "execute_result"
    }
   ],
   "source": [
    "data_streets['street'] = data_streets['street'].apply(drop_town)\n",
    "data_streets.query('street != \"не улица\"').head(10)"
   ]
  },
  {
   "cell_type": "markdown",
   "id": "0baf4c87",
   "metadata": {},
   "source": [
    "Вот это уже больше похоже на то, что мы ищем."
   ]
  },
  {
   "cell_type": "markdown",
   "id": "d553318a",
   "metadata": {},
   "source": [
    "#### Краткий вывод\n",
    "Вот как картина выглядит по районам:\n",
    "- Профсоюзная улица - ЮЗАО\n",
    "- Пресненская набережная - ЦАО\n",
    "- Кировоградская улица - ЮАО\n",
    "- Ходынский бульвар - САО\n",
    "- улица Новый Арбат - ЦАО\n",
    "- улица Сущёвский Вал - ЦАО, СВАО\n",
    "- улица Ленинская Слобода - ЮАО\n",
    "- Пятницкая улица - ЦАО\n",
    "- улица Земляной Вал - ЦАО\n",
    "- улица Вавилова - ЮАО, ЮЗАО  \n",
    "  \n",
    "Мы нашли топ 10 улиц по количеству заведений. Из внешних источников стало понятно, что они расположены в центре, либо не далеко от него. В основном преобладает ЦАО и ЮАО."
   ]
  },
  {
   "cell_type": "markdown",
   "id": "1d9a353d",
   "metadata": {},
   "source": [
    "### Найдем число улиц с одним объектом общественного питания. \n",
    "Выясним в каких районах Москвы находятся эти улицы?  "
   ]
  },
  {
   "cell_type": "code",
   "execution_count": 52,
   "id": "c2292942",
   "metadata": {},
   "outputs": [],
   "source": [
    "data_streets_one = data_streets.query('(street != \"не улица\") & (count == 1)')"
   ]
  },
  {
   "cell_type": "markdown",
   "id": "99b72c26",
   "metadata": {},
   "source": [
    "Добавим в новую таблицу названия районов и округов."
   ]
  },
  {
   "cell_type": "code",
   "execution_count": 53,
   "id": "031ddc37",
   "metadata": {},
   "outputs": [],
   "source": [
    "data_streets_one = data_streets_one.merge(streets, left_on='street', right_on='streetname', how='inner')\n",
    "data_streets_one = data_streets_one.drop(['streetname'], axis = 1)"
   ]
  },
  {
   "cell_type": "code",
   "execution_count": 54,
   "id": "3dcbb02f",
   "metadata": {},
   "outputs": [
    {
     "data": {
      "text/html": [
       "<div>\n",
       "<style scoped>\n",
       "    .dataframe tbody tr th:only-of-type {\n",
       "        vertical-align: middle;\n",
       "    }\n",
       "\n",
       "    .dataframe tbody tr th {\n",
       "        vertical-align: top;\n",
       "    }\n",
       "\n",
       "    .dataframe thead th {\n",
       "        text-align: right;\n",
       "    }\n",
       "</style>\n",
       "<table border=\"1\" class=\"dataframe\">\n",
       "  <thead>\n",
       "    <tr style=\"text-align: right;\">\n",
       "      <th></th>\n",
       "      <th>street</th>\n",
       "      <th>count</th>\n",
       "      <th>areaid</th>\n",
       "      <th>okrug</th>\n",
       "      <th>area</th>\n",
       "    </tr>\n",
       "  </thead>\n",
       "  <tbody>\n",
       "    <tr>\n",
       "      <td>0</td>\n",
       "      <td>улица Демьяна Бедного</td>\n",
       "      <td>1</td>\n",
       "      <td>92</td>\n",
       "      <td>СЗАО</td>\n",
       "      <td>Район Хорошево-Мневники</td>\n",
       "    </tr>\n",
       "    <tr>\n",
       "      <td>1</td>\n",
       "      <td>Андреево-Забелинская улица</td>\n",
       "      <td>1</td>\n",
       "      <td>22</td>\n",
       "      <td>ВАО</td>\n",
       "      <td>Район Богородское</td>\n",
       "    </tr>\n",
       "    <tr>\n",
       "      <td>2</td>\n",
       "      <td>1-й Саратовский проезд</td>\n",
       "      <td>1</td>\n",
       "      <td>121</td>\n",
       "      <td>ЮВАО</td>\n",
       "      <td>Район Текстильщики</td>\n",
       "    </tr>\n",
       "    <tr>\n",
       "      <td>3</td>\n",
       "      <td>Андроньевская площадь</td>\n",
       "      <td>1</td>\n",
       "      <td>18</td>\n",
       "      <td>ЦАО</td>\n",
       "      <td>Таганский район</td>\n",
       "    </tr>\n",
       "    <tr>\n",
       "      <td>4</td>\n",
       "      <td>2-й Стрелецкий проезд</td>\n",
       "      <td>1</td>\n",
       "      <td>78</td>\n",
       "      <td>СВАО</td>\n",
       "      <td>Район Марьина роща</td>\n",
       "    </tr>\n",
       "  </tbody>\n",
       "</table>\n",
       "</div>"
      ],
      "text/plain": [
       "                       street  count  areaid okrug                     area\n",
       "0       улица Демьяна Бедного      1      92  СЗАО  Район Хорошево-Мневники\n",
       "1  Андреево-Забелинская улица      1      22   ВАО        Район Богородское\n",
       "2      1-й Саратовский проезд      1     121  ЮВАО       Район Текстильщики\n",
       "3       Андроньевская площадь      1      18   ЦАО          Таганский район\n",
       "4       2-й Стрелецкий проезд      1      78  СВАО       Район Марьина роща"
      ]
     },
     "execution_count": 54,
     "metadata": {},
     "output_type": "execute_result"
    }
   ],
   "source": [
    "data_streets_one.head()"
   ]
  },
  {
   "cell_type": "markdown",
   "id": "7364f40c",
   "metadata": {},
   "source": [
    "создадим сводную таблицу по районам."
   ]
  },
  {
   "cell_type": "code",
   "execution_count": 55,
   "id": "a35614f8",
   "metadata": {},
   "outputs": [
    {
     "data": {
      "text/html": [
       "<div>\n",
       "<style scoped>\n",
       "    .dataframe tbody tr th:only-of-type {\n",
       "        vertical-align: middle;\n",
       "    }\n",
       "\n",
       "    .dataframe tbody tr th {\n",
       "        vertical-align: top;\n",
       "    }\n",
       "\n",
       "    .dataframe thead th {\n",
       "        text-align: right;\n",
       "    }\n",
       "</style>\n",
       "<table border=\"1\" class=\"dataframe\">\n",
       "  <thead>\n",
       "    <tr style=\"text-align: right;\">\n",
       "      <th></th>\n",
       "      <th>area</th>\n",
       "      <th>count</th>\n",
       "    </tr>\n",
       "  </thead>\n",
       "  <tbody>\n",
       "    <tr>\n",
       "      <td>93</td>\n",
       "      <td>Таганский район</td>\n",
       "      <td>27</td>\n",
       "    </tr>\n",
       "    <tr>\n",
       "      <td>79</td>\n",
       "      <td>Район Хамовники</td>\n",
       "      <td>26</td>\n",
       "    </tr>\n",
       "    <tr>\n",
       "      <td>3</td>\n",
       "      <td>Басманный район</td>\n",
       "      <td>25</td>\n",
       "    </tr>\n",
       "    <tr>\n",
       "      <td>94</td>\n",
       "      <td>Тверской район</td>\n",
       "      <td>20</td>\n",
       "    </tr>\n",
       "    <tr>\n",
       "      <td>20</td>\n",
       "      <td>Пресненский район</td>\n",
       "      <td>19</td>\n",
       "    </tr>\n",
       "    <tr>\n",
       "      <td>49</td>\n",
       "      <td>Район Марьина роща</td>\n",
       "      <td>17</td>\n",
       "    </tr>\n",
       "    <tr>\n",
       "      <td>21</td>\n",
       "      <td>Район Арбат</td>\n",
       "      <td>17</td>\n",
       "    </tr>\n",
       "    <tr>\n",
       "      <td>13</td>\n",
       "      <td>Мещанский район</td>\n",
       "      <td>16</td>\n",
       "    </tr>\n",
       "    <tr>\n",
       "      <td>73</td>\n",
       "      <td>Район Сокольники</td>\n",
       "      <td>15</td>\n",
       "    </tr>\n",
       "    <tr>\n",
       "      <td>33</td>\n",
       "      <td>Район Замоскворечье</td>\n",
       "      <td>14</td>\n",
       "    </tr>\n",
       "  </tbody>\n",
       "</table>\n",
       "</div>"
      ],
      "text/plain": [
       "                   area  count\n",
       "93      Таганский район     27\n",
       "79      Район Хамовники     26\n",
       "3       Басманный район     25\n",
       "94       Тверской район     20\n",
       "20    Пресненский район     19\n",
       "49   Район Марьина роща     17\n",
       "21          Район Арбат     17\n",
       "13      Мещанский район     16\n",
       "73     Район Сокольники     15\n",
       "33  Район Замоскворечье     14"
      ]
     },
     "execution_count": 55,
     "metadata": {},
     "output_type": "execute_result"
    }
   ],
   "source": [
    "data_streets_area = data_streets_one.pivot_table(\n",
    "    index='area',\n",
    "    values='count',\n",
    "    aggfunc='sum').reset_index()\n",
    "\n",
    "\n",
    "data_streets_area.columns = ['area', 'count']\n",
    "data_streets_area = data_streets_area.sort_values(by='count', ascending=False)\n",
    "data_streets_area.head(10)"
   ]
  },
  {
   "cell_type": "markdown",
   "id": "4438d5d4",
   "metadata": {},
   "source": [
    "А теперь нарисуем таблицу."
   ]
  },
  {
   "cell_type": "code",
   "execution_count": 56,
   "id": "3eb5b32a",
   "metadata": {},
   "outputs": [
    {
     "data": {
      "image/png": "[encoded data removed]",
      "text/plain": [
       "<Figure size 1440x576 with 1 Axes>"
      ]
     },
     "metadata": {
      "needs_background": "light"
     },
     "output_type": "display_data"
    }
   ],
   "source": [
    "fig, barplot = plt.subplots(figsize = (20,8))\n",
    "barplot = sns.barplot(\n",
    "    y='count', \n",
    "    x='area',\n",
    "    data=data_streets_area)\n",
    "\n",
    "plt.ylabel('Кол-во улиц с одним объектом общепита')\n",
    "plt.xlabel('Улица')\n",
    "plt.title('Районы с одним объектом общепита на улице.')\n",
    "plt.xticks(rotation=90)\n",
    "plt.show()"
   ]
  },
  {
   "cell_type": "markdown",
   "id": "64c5d299",
   "metadata": {},
   "source": [
    "Сделаем то же самое по округам."
   ]
  },
  {
   "cell_type": "code",
   "execution_count": 57,
   "id": "ea3475fc",
   "metadata": {},
   "outputs": [
    {
     "data": {
      "text/html": [
       "<div>\n",
       "<style scoped>\n",
       "    .dataframe tbody tr th:only-of-type {\n",
       "        vertical-align: middle;\n",
       "    }\n",
       "\n",
       "    .dataframe tbody tr th {\n",
       "        vertical-align: top;\n",
       "    }\n",
       "\n",
       "    .dataframe thead th {\n",
       "        text-align: right;\n",
       "    }\n",
       "</style>\n",
       "<table border=\"1\" class=\"dataframe\">\n",
       "  <thead>\n",
       "    <tr style=\"text-align: right;\">\n",
       "      <th></th>\n",
       "      <th>okrug</th>\n",
       "      <th>count</th>\n",
       "    </tr>\n",
       "  </thead>\n",
       "  <tbody>\n",
       "    <tr>\n",
       "      <td>6</td>\n",
       "      <td>ЦАО</td>\n",
       "      <td>185</td>\n",
       "    </tr>\n",
       "    <tr>\n",
       "      <td>0</td>\n",
       "      <td>ВАО</td>\n",
       "      <td>70</td>\n",
       "    </tr>\n",
       "    <tr>\n",
       "      <td>4</td>\n",
       "      <td>СВАО</td>\n",
       "      <td>66</td>\n",
       "    </tr>\n",
       "    <tr>\n",
       "      <td>3</td>\n",
       "      <td>САО</td>\n",
       "      <td>55</td>\n",
       "    </tr>\n",
       "    <tr>\n",
       "      <td>8</td>\n",
       "      <td>ЮВАО</td>\n",
       "      <td>53</td>\n",
       "    </tr>\n",
       "    <tr>\n",
       "      <td>1</td>\n",
       "      <td>ЗАО</td>\n",
       "      <td>41</td>\n",
       "    </tr>\n",
       "    <tr>\n",
       "      <td>7</td>\n",
       "      <td>ЮАО</td>\n",
       "      <td>30</td>\n",
       "    </tr>\n",
       "    <tr>\n",
       "      <td>9</td>\n",
       "      <td>ЮЗАО</td>\n",
       "      <td>27</td>\n",
       "    </tr>\n",
       "    <tr>\n",
       "      <td>5</td>\n",
       "      <td>СЗАО</td>\n",
       "      <td>25</td>\n",
       "    </tr>\n",
       "    <tr>\n",
       "      <td>2</td>\n",
       "      <td>Зеленоград</td>\n",
       "      <td>1</td>\n",
       "    </tr>\n",
       "  </tbody>\n",
       "</table>\n",
       "</div>"
      ],
      "text/plain": [
       "        okrug  count\n",
       "6         ЦАО    185\n",
       "0         ВАО     70\n",
       "4        СВАО     66\n",
       "3         САО     55\n",
       "8        ЮВАО     53\n",
       "1         ЗАО     41\n",
       "7         ЮАО     30\n",
       "9        ЮЗАО     27\n",
       "5        СЗАО     25\n",
       "2  Зеленоград      1"
      ]
     },
     "execution_count": 57,
     "metadata": {},
     "output_type": "execute_result"
    }
   ],
   "source": [
    "data_streets_okrug = data_streets_one.pivot_table(\n",
    "    index='okrug',\n",
    "    values='count',\n",
    "    aggfunc='sum').reset_index()\n",
    "\n",
    "\n",
    "data_streets_okrug.columns = ['okrug', 'count']\n",
    "data_streets_okrug = data_streets_okrug.sort_values(by='count', ascending=False)\n",
    "data_streets_okrug"
   ]
  },
  {
   "cell_type": "code",
   "execution_count": 58,
   "id": "b433d251",
   "metadata": {},
   "outputs": [
    {
     "data": {
      "image/png": "[encoded data removed]",
      "text/plain": [
       "<Figure size 576x504 with 1 Axes>"
      ]
     },
     "metadata": {
      "needs_background": "light"
     },
     "output_type": "display_data"
    }
   ],
   "source": [
    "fig, barplot = plt.subplots(figsize = (8,7))\n",
    "barplot = sns.barplot(\n",
    "    x='count', \n",
    "    y='okrug',\n",
    "    data=data_streets_okrug)\n",
    "\n",
    "plt.xlabel('Кол-во улиц с одним объектом общепита')\n",
    "plt.ylabel('Округ')\n",
    "plt.title('Округа с одним объектом общепита на улице.')\n",
    "plt.show()"
   ]
  },
  {
   "cell_type": "markdown",
   "id": "20717d89",
   "metadata": {},
   "source": [
    "#### Краткий вывод\n",
    "Вот как картина выглядит топ 3 по районам:\n",
    "- Таганский район\n",
    "- Район Хамовники\n",
    "- Басманный район\n",
    "  \n",
    "Среди округов приобладает ЦАО, остальные сильно отстают."
   ]
  },
  {
   "cell_type": "markdown",
   "id": "4e88c09a",
   "metadata": {},
   "source": [
    "### Посмотрим на распределение количества посадочных мест для улиц с большим количеством объектов общественного питания. \n",
    "Какие закономерности можно выявить?  "
   ]
  },
  {
   "cell_type": "code",
   "execution_count": 59,
   "id": "4f481eb5",
   "metadata": {},
   "outputs": [],
   "source": [
    "data_streets_clear = data_streets.query('street != \"не улица\"')"
   ]
  },
  {
   "cell_type": "code",
   "execution_count": 60,
   "id": "87e41e00",
   "metadata": {},
   "outputs": [
    {
     "name": "stdout",
     "output_type": "stream",
     "text": [
      "Колонка - count\n",
      "Первый квартиль = 1.0\n",
      "Третий квартиль = 7.0\n",
      "Значение 95% = 24\n",
      "Значение 99% = 62\n",
      "Максимальное значение = 182\n",
      "Нижняя граница = -8.0, Верхняя граница = 16.0\n",
      "Редкие значения меньше нижней границы = 0\n",
      "Редкие значения больше верхней границы = 164\n",
      "\n"
     ]
    }
   ],
   "source": [
    "rare_values(data_streets_clear)"
   ]
  },
  {
   "cell_type": "markdown",
   "id": "d2dc75e0",
   "metadata": {},
   "source": [
    "Предположим, что с большим - это выше 95%, т.е. от 24 объектов и выше."
   ]
  },
  {
   "cell_type": "code",
   "execution_count": 61,
   "id": "9547143d",
   "metadata": {},
   "outputs": [
    {
     "data": {
      "text/plain": [
       "101"
      ]
     },
     "execution_count": 61,
     "metadata": {},
     "output_type": "execute_result"
    }
   ],
   "source": [
    "data_streets_clear = data_streets_clear.query('count > 23')\n",
    "data_streets_clear.street.count()"
   ]
  },
  {
   "cell_type": "markdown",
   "id": "f8055bcd",
   "metadata": {},
   "source": [
    "Создадим список улиц."
   ]
  },
  {
   "cell_type": "code",
   "execution_count": 62,
   "id": "e90e36a1",
   "metadata": {},
   "outputs": [],
   "source": [
    "list_of_streets = data_streets_clear.street.tolist()"
   ]
  },
  {
   "cell_type": "markdown",
   "id": "ad154881",
   "metadata": {},
   "source": [
    "Теперь отфильтруем данные по улицам."
   ]
  },
  {
   "cell_type": "code",
   "execution_count": 63,
   "id": "ea4ee465",
   "metadata": {},
   "outputs": [],
   "source": [
    "data_max_obj = data.query('street in @list_of_streets')"
   ]
  },
  {
   "cell_type": "markdown",
   "id": "5b39eee6",
   "metadata": {},
   "source": [
    "Можно начинать работать с таблицей."
   ]
  },
  {
   "cell_type": "code",
   "execution_count": 64,
   "id": "a9aa6cf0",
   "metadata": {},
   "outputs": [
    {
     "data": {
      "text/html": [
       "<div>\n",
       "<style scoped>\n",
       "    .dataframe tbody tr th:only-of-type {\n",
       "        vertical-align: middle;\n",
       "    }\n",
       "\n",
       "    .dataframe tbody tr th {\n",
       "        vertical-align: top;\n",
       "    }\n",
       "\n",
       "    .dataframe thead th {\n",
       "        text-align: right;\n",
       "    }\n",
       "</style>\n",
       "<table border=\"1\" class=\"dataframe\">\n",
       "  <thead>\n",
       "    <tr style=\"text-align: right;\">\n",
       "      <th></th>\n",
       "      <th>id</th>\n",
       "      <th>object_name</th>\n",
       "      <th>chain</th>\n",
       "      <th>object_type</th>\n",
       "      <th>address</th>\n",
       "      <th>number</th>\n",
       "      <th>street</th>\n",
       "    </tr>\n",
       "  </thead>\n",
       "  <tbody>\n",
       "    <tr>\n",
       "      <td>14919</td>\n",
       "      <td>222926</td>\n",
       "      <td>Дай краба</td>\n",
       "      <td>нет</td>\n",
       "      <td>кафе</td>\n",
       "      <td>город Москва, Ходынский бульвар, дом 4</td>\n",
       "      <td>0</td>\n",
       "      <td>Ходынский бульвар</td>\n",
       "    </tr>\n",
       "  </tbody>\n",
       "</table>\n",
       "</div>"
      ],
      "text/plain": [
       "           id object_name chain object_type  \\\n",
       "14919  222926   Дай краба   нет        кафе   \n",
       "\n",
       "                                      address  number             street  \n",
       "14919  город Москва, Ходынский бульвар, дом 4       0  Ходынский бульвар  "
      ]
     },
     "execution_count": 64,
     "metadata": {},
     "output_type": "execute_result"
    }
   ],
   "source": [
    "data_max_obj.sample(1)"
   ]
  },
  {
   "cell_type": "code",
   "execution_count": 66,
   "id": "42c6b0f7",
   "metadata": {},
   "outputs": [],
   "source": [
    "displot = sns.displot(x='number', data=data_max_obj)\n",
    "\n",
    "plt.xlabel('Кол-во посадочных мест')\n",
    "plt.ylabel('Кол-во заведений')\n",
    "plt.title('Распределение посадочных мест по заведениям на самых популярных улицах.')\n",
    "plt.show()"
   ]
  },
  {
   "cell_type": "code",
   "execution_count": 67,
   "id": "9e66f09b",
   "metadata": {},
   "outputs": [],
   "source": [
    "rare_values(data_max_obj['number'])"
   ]
  },
  {
   "cell_type": "markdown",
   "id": "99efe59c",
   "metadata": {},
   "source": [
    "#### Краткий вывод\n",
    "Судя по всему на самых оживленных улицах преобладают заведения с небольшим количеством мест или вовсе без них. Скорее всего сказывается нехватка пространства, учитывая, что это центральный район."
   ]
  },
  {
   "cell_type": "markdown",
   "id": "b726de41",
   "metadata": {},
   "source": [
    "### Выводы по разделу\n",
    "- Самым популярным объектом общественного питания являются кафешки с 50 посадочными местами, расположенные в центральном районе. \n",
    "- Большая часть объектов общественного питания являются несетевыми.\n",
    "- Сети предпочитают открываться в людных местах, поближе к центру.\n",
    "- Закусочные и отделы кулинарии в магазинах встречаются реже всего.\n",
    "- В несетевом сегменте столовые занимают второе место, при этом среди сетей их практически нет.\n",
    "- Для сетевых заведений больше характерно много заведений с небольшим кол-вом посадочных мест."
   ]
  },
  {
   "cell_type": "markdown",
   "id": "f2a9d73f",
   "metadata": {},
   "source": [
    "## Общие выводы по анализу\n",
    "Данные, полученные для анализа в хорошем виде. Потребовалось выделить отдельно улицы и подгрузить из внешних источников округ и район. Так же мы прировняли кафе и кофетерий к единой записи - кафе.  \n",
    "\n",
    "---\n",
    "При анализе данных было определено, что самое большое скопление заведений находится в центральном районе, и расчитано на 45-50 мест.\n",
    "\n",
    "---\n",
    "Сети предпочитают придерживаться стандарта в 40-50 мест вне зависимости от величины сети.\n",
    "\n",
    "---\n",
    "При этом присутствуют аномалии с количеством мест около 500-600.\n",
    "\n",
    "---\n",
    "\n",
    "Большая часть заведений имеет несетевой характер.\n",
    "\n",
    "---\n",
    "\n",
    "Ссылка на презентацию.  \n",
    "https://disk.yandex.ru/i/UsU3_ZGUPYHD5A"
   ]
  }
 ],
 "metadata": {
  "ExecuteTimeLog": [
   {
    "duration": 3,
    "start_time": "2022-03-11T11:46:21.000Z"
   },
   {
    "duration": 6437,
    "start_time": "2022-03-11T11:46:21.027Z"
   },
   {
    "duration": 2,
    "start_time": "2022-03-11T11:46:27.466Z"
   },
   {
    "duration": 67,
    "start_time": "2022-03-11T11:46:27.470Z"
   },
   {
    "duration": 1323,
    "start_time": "2022-03-11T11:46:27.539Z"
   },
   {
    "duration": 12,
    "start_time": "2022-03-11T11:46:28.902Z"
   },
   {
    "duration": 14,
    "start_time": "2022-03-11T11:46:28.916Z"
   },
   {
    "duration": 71,
    "start_time": "2022-03-11T11:46:28.932Z"
   },
   {
    "duration": 10,
    "start_time": "2022-03-11T11:46:29.005Z"
   },
   {
    "duration": 7,
    "start_time": "2022-03-11T11:46:29.019Z"
   },
   {
    "duration": 7,
    "start_time": "2022-03-11T11:46:29.028Z"
   },
   {
    "duration": 67,
    "start_time": "2022-03-11T11:46:29.037Z"
   },
   {
    "duration": 8,
    "start_time": "2022-03-11T11:46:29.106Z"
   },
   {
    "duration": 9,
    "start_time": "2022-03-11T11:46:29.116Z"
   },
   {
    "duration": 3,
    "start_time": "2022-03-11T11:46:29.127Z"
   },
   {
    "duration": 88,
    "start_time": "2022-03-11T11:46:29.132Z"
   },
   {
    "duration": 12,
    "start_time": "2022-03-11T11:46:29.222Z"
   },
   {
    "duration": 82,
    "start_time": "2022-03-11T11:46:29.236Z"
   },
   {
    "duration": 5,
    "start_time": "2022-03-11T11:46:29.320Z"
   },
   {
    "duration": 7,
    "start_time": "2022-03-11T11:46:29.327Z"
   },
   {
    "duration": 73,
    "start_time": "2022-03-11T11:46:29.335Z"
   },
   {
    "duration": 494,
    "start_time": "2022-03-11T11:46:29.410Z"
   },
   {
    "duration": 18,
    "start_time": "2022-03-11T11:46:29.905Z"
   },
   {
    "duration": 513,
    "start_time": "2022-03-11T11:46:29.924Z"
   },
   {
    "duration": 64,
    "start_time": "2022-03-11T11:46:30.439Z"
   },
   {
    "duration": 15,
    "start_time": "2022-03-11T11:46:30.505Z"
   },
   {
    "duration": 86,
    "start_time": "2022-03-11T11:46:30.522Z"
   },
   {
    "duration": 27,
    "start_time": "2022-03-11T11:46:30.612Z"
   },
   {
    "duration": 66,
    "start_time": "2022-03-11T11:46:30.641Z"
   },
   {
    "duration": 10,
    "start_time": "2022-03-11T11:46:30.709Z"
   },
   {
    "duration": 82,
    "start_time": "2022-03-11T11:46:30.721Z"
   },
   {
    "duration": 27,
    "start_time": "2022-03-11T11:46:30.805Z"
   },
   {
    "duration": 67,
    "start_time": "2022-03-11T11:46:30.834Z"
   },
   {
    "duration": 31,
    "start_time": "2022-03-11T11:46:30.904Z"
   },
   {
    "duration": 292,
    "start_time": "2022-03-11T11:46:30.936Z"
   },
   {
    "duration": 6,
    "start_time": "2022-03-11T11:46:31.229Z"
   },
   {
    "duration": 68,
    "start_time": "2022-03-11T11:46:31.236Z"
   },
   {
    "duration": 12,
    "start_time": "2022-03-11T11:46:31.306Z"
   },
   {
    "duration": 291,
    "start_time": "2022-03-11T11:46:31.320Z"
   },
   {
    "duration": 7,
    "start_time": "2022-03-11T11:46:31.612Z"
   },
   {
    "duration": 12,
    "start_time": "2022-03-11T11:46:31.621Z"
   },
   {
    "duration": 9,
    "start_time": "2022-03-11T11:46:31.635Z"
   },
   {
    "duration": 22,
    "start_time": "2022-03-11T11:46:31.646Z"
   },
   {
    "duration": 182,
    "start_time": "2022-03-11T11:46:31.701Z"
   },
   {
    "duration": 16,
    "start_time": "2022-03-11T11:46:31.885Z"
   },
   {
    "duration": 16,
    "start_time": "2022-03-11T11:46:31.903Z"
   },
   {
    "duration": 11,
    "start_time": "2022-03-11T11:46:31.920Z"
   },
   {
    "duration": 3,
    "start_time": "2022-03-11T11:46:31.933Z"
   },
   {
    "duration": 13,
    "start_time": "2022-03-11T11:46:31.937Z"
   },
   {
    "duration": 9,
    "start_time": "2022-03-11T11:46:31.951Z"
   },
   {
    "duration": 44,
    "start_time": "2022-03-11T11:46:31.962Z"
   },
   {
    "duration": 6,
    "start_time": "2022-03-11T11:46:32.008Z"
   },
   {
    "duration": 8,
    "start_time": "2022-03-11T11:46:32.015Z"
   },
   {
    "duration": 7,
    "start_time": "2022-03-11T11:46:32.025Z"
   },
   {
    "duration": 17,
    "start_time": "2022-03-11T11:46:32.034Z"
   },
   {
    "duration": 2101,
    "start_time": "2022-03-11T11:46:32.053Z"
   },
   {
    "duration": 14,
    "start_time": "2022-03-11T11:46:34.155Z"
   },
   {
    "duration": 283,
    "start_time": "2022-03-11T11:46:34.171Z"
   },
   {
    "duration": 5,
    "start_time": "2022-03-11T11:46:34.456Z"
   },
   {
    "duration": 12,
    "start_time": "2022-03-11T11:46:34.463Z"
   },
   {
    "duration": 25,
    "start_time": "2022-03-11T11:46:34.476Z"
   },
   {
    "duration": 2,
    "start_time": "2022-03-11T11:46:34.503Z"
   },
   {
    "duration": 7,
    "start_time": "2022-03-11T11:46:34.506Z"
   },
   {
    "duration": 10,
    "start_time": "2022-03-11T11:46:34.514Z"
   },
   {
    "duration": 15506,
    "start_time": "2022-03-11T11:46:34.526Z"
   },
   {
    "duration": 317,
    "start_time": "2022-03-11T11:46:49.717Z"
   },
   {
    "duration": 3,
    "start_time": "2022-03-11T12:46:59.498Z"
   },
   {
    "duration": 2,
    "start_time": "2022-03-11T12:47:08.705Z"
   }
  ],
  "kernelspec": {
   "display_name": "Python 3 (ipykernel)",
   "language": "python",
   "name": "python3"
  },
  "language_info": {
   "codemirror_mode": {
    "name": "ipython",
    "version": 3
   },
   "file_extension": ".py",
   "mimetype": "text/x-python",
   "name": "python",
   "nbconvert_exporter": "python",
   "pygments_lexer": "ipython3",
   "version": "3.9.7"
  },
  "toc": {
   "base_numbering": 1,
   "nav_menu": {},
   "number_sections": false,
   "sideBar": true,
   "skip_h1_title": false,
   "title_cell": "Table of Contents",
   "title_sidebar": "Contents",
   "toc_cell": false,
   "toc_position": {
    "height": "calc(100% - 180px)",
    "left": "10px",
    "top": "150px",
    "width": "324.797px"
   },
   "toc_section_display": true,
   "toc_window_display": true
  }
 },
 "nbformat": 4,
 "nbformat_minor": 5
}
